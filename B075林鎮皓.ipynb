{
 "cells": [
  {
   "cell_type": "markdown",
   "metadata": {},
   "source": [
    "#   商用程式設計\n",
    "\n",
    "#        第一章"
   ]
  },
  {
   "cell_type": "markdown",
   "metadata": {},
   "source": [
    "# 加法"
   ]
  },
  {
   "cell_type": "code",
   "execution_count": 5,
   "metadata": {},
   "outputs": [
    {
     "data": {
      "text/plain": [
       "8"
      ]
     },
     "execution_count": 5,
     "metadata": {},
     "output_type": "execute_result"
    }
   ],
   "source": [
    "a=3\n",
    "b=5\n",
    "a+b"
   ]
  },
  {
   "cell_type": "markdown",
   "metadata": {},
   "source": [
    "# 網頁擷取程式"
   ]
  },
  {
   "cell_type": "code",
   "execution_count": 4,
   "metadata": {},
   "outputs": [
    {
     "name": "stdout",
     "output_type": "stream",
     "text": [
      "ï»¿<!DOCTYPE html>\r\n",
      "<!--\r\n",
      "Template Name:ææ°ç§æå¤§å­¸\r\n",
      "Author: <a href=\"http://www.os-templates.com/\">OS Templates</a>\r\n",
      "Author URI: http://www.os-templates.com/\r\n",
      "Licence: Free to use under our free template licence terms\r\n",
      "Licence URI: http://www.os-templates.com/template-terms\r\n",
      "-->\r\n",
      "<html>\r\n",
      "<head>\r\n",
      "<meta name=\"google-site-verification\" content=\"qyA7Hl8GH4fSuN63aOHw_YOR_OiuioN_OJBIsW0AJTM\" />\r\n",
      "<title>ææ°ç§æå¤§å­¸</title>\r\n",
      "<meta charset=\"utf-8\">\r\n",
      "<meta http-equiv=\"X-UA-Compatible\" content=\"IE=edge,chrome=1\">\r\n",
      "<meta name=\"viewport\" content=\"width=device-width, initial-scale=1.0, maximum-scale=1.0, user-scalable=no\">\r\n",
      "<meta name= \" Accessible_website \" content= \" æ¬ç¶²ç«ééç¬¬(1)åªå",
      "ç­ç´ç¡éç¤ç¶²é æª¢æ¸¬ \" >\r\n",
      "<link href=\"layout/styles/layout.css\" rel=\"stylesheet\" type=\"text/css\" media=\"all\">\r\n",
      "<script type=\"text/javascript\" src=\"layout/scripts/away.js\"></script>\r\n",
      "<script charset=\"UTF-8\" type=\"text/javascript\" src=\"http://webs.must.edu.tw/pagecount/showpage.php?page=must_school&show=no\"></script>\r\n",
      "<style type=text/css> \r\n",
      "<!--\r\n",
      "/*å",
      "¨é¨è¨­å®å­é«*/\r\n",
      " body { font-family: verdana, Times New Roman, å¾®è»æ­£é»é«, æ°ç´°æé«; }\r\n",
      "//-->\r\n",
      "</style>\r\n",
      "<!-- Global site tag (gtag.js) - Google Analytics -->\r\n",
      "<script async src=\"https://www.googletagmanager.com/gtag/js?id=UA-131310035-1\"></script>\r\n",
      "<script>\r\n",
      "  window.dataLayer = window.dataLayer || [];\r\n",
      "  function gtag(){dataLayer.push(arguments);}\r\n",
      "  gtag('js', new Date());\r\n",
      "\r\n",
      "  gtag('config', 'UA-131310035-1');\r\n",
      "</script>\r\n",
      "\r\n",
      "</head>\r\n",
      "<body id=\"top\">\r\n",
      "<!-- ################################################################################################ --> \r\n",
      "<!-- ################################################################################################ --> \r\n",
      "<!-- ################################################################################################ -->\r\n",
      "<div class=\"wrapper row1\">\r\n",
      "\r\n",
      "  <div id=\"topbar\" class=\"clear\"> \r\n",
      "    <!-- ################################################################################################ -->\r\n",
      "    <nav>\r\n",
      "      <ul><a href=\"#_top\" accesskey=\"U\" title=\"ä¸æ¹é¸å®å\">:::</a>\r\n",
      "        <li><a href=\"http://www.must.edu.tw/index.html\">é¦é </a></li>\r\n",
      "\t<li><a href=\"http://webc1.must.edu.tw/jtmust062/index.php/news/mustepaper\">é»å­å ±</a></li>\r\n",
      "        <li><a href=\"http://www.must.edu.tw/about/contact.html\">è¯çµ¡æå</a></li>\r\n",
      "        <li><a href=\"http://fg.must.edu.tw/\">English</a></li>\r\n",
      "        <li><a href=\"mailto://csc@must.edu.tw;president@must.edu.tw;secretariat.must@must.edu.tw;chen083487@must.edu.tw \">æ ¡é·ä¿¡ç®±</a></li>\r\n",
      "        <li><a href=\"mailto://csc@must.edu.tw\">è£äºé·ä¿¡ç®±</a></li>\r\n",
      "\t<li><a href=\"http://www.must.edu.tw/about/webmap.html\">ç¶²ç«å°è¦½</a></li>\r\n",
      "\t<li><a href=\"http://www.must.edu.tw/seach.html\">ç«å",
      "§æå°</a></li>\r\n",
      "      \r\n",
      "      </ul>\r\n",
      "    </nav>\r\n",
      "    <!-- ################################################################################################ --> \r\n",
      "  </div>\r\n",
      "</div>\r\n",
      "<!-- ################################################################################################ --> \r\n",
      "\r\n",
      "<!-- å",
      "¬éåºççµyahooè¡é·ç¨å¼ç¢¼ -->\r\n",
      "<script type=\"application/javascript\">(function(w,d,t,r,u){w[u]=w[u]||[];w[u].push({'projectId':'10001499389408','properties':{'pixelId':'440351'}});var s=d.createElement(t);s.src=r;s.async=true;s.onload=s.onreadystatechange=function(){var y,rs=this.readyState,c=w[u];if(rs&&rs!=\"complete\"&&rs!=\"loaded\"){return}try{y=YAHOO.ywa.I13N.fireBeacon;w[u]=[];w[u].push=function(p){y([p])};y(c)}catch(e){}};var scr=d.getElementsByTagName(t)[0],par=scr.parentNode;par.insertBefore(s,scr)})(window,document,\"script\",\"https://s.yimg.com/wi/ytc.js\",\"dotq\");</script>\r\n",
      "\r\n",
      "<!-- ################################################################################################ --> \r\n",
      "<!-- ################################################################################################ -->\r\n",
      "<div class=\"wrapper row1\">\r\n",
      "  <header id=\"header\" class=\"clear\"> \r\n",
      "    <!-- ################################################################################################ -->\r\n",
      "    <div id=\"logo\" class=\"fl_left\">\r\n",
      "      <a href=\"http://www.must.edu.tw/index.html\" title=\"åé¦é \"><img src=\"images/Q/newlogo-3.png\" alt=\"å­¸æ ¡ç¶²é logoå\"></a>\r\n",
      "      <!--<h1><a href=\"http://www.must.edu.tw/\">ææ°ç§æå¤§å­¸</a></h1> -->\r\n",
      "      <!--<p  style=\"color:#FFFFFF;\">Minghsin University of Science and Technology</p> -->\r\n",
      "    </div>\r\n",
      "    <div class=\"fl_right\">\r\n",
      "\r\n",
      "    <div id=\"headerLink\">\r\n",
      "    <!-- <form class=\"clear\" method=\"post\" action=\"chinese/16_search/search.aspx\" enctype=\"multipart/form-data\">\r\n",
      "        <fieldset>\r\n",
      "          <legend>Search:</legend>\r\n",
      "          <input name=\"searchkey\" type=\"text\" value=\"\" placeholder=\"å",
      "¨ç«æå°\">\r\n",
      "          <button class=\"javascript:fSearch_submit(document.fsearch);\" type=\"submit\" title=\"Search\">\r\n",
      "\t\t  <function Tomaincontent(item) \r\n",
      "{ \r\n",
      "  for (var i=1; i<= maincontent; i++){\r\n",
      "    main_content = document.getElementById(\"main_content_\"+ i);\r\n",
      "\tlabel = document.getElementById(\"label_\"+ i);\r\n",
      "    main_content.style.display = \"none\";\r\n",
      "\tlabel.className = \"home_label\"+i+\"B\"; \r\n",
      "\t//label.style.background = eval(\"d\"+i); \r\n",
      "  }\r\n",
      "    main_content = document.getElementById(\"main_content_\"+ item);\r\n",
      "\tlabel = document.getElementById(\"label_\"+ item);\r\n",
      "    main_content.style.display = \"block\";\r\n",
      "\tlabel.className = \"home_label\"+item; \r\n",
      "\t//label.style.background = eval(\"u\"+item); \r\n",
      "} \r\n",
      "function fSearch_submit(obj){\r\n",
      "\tif(obj.searchkey.value==\"\")\r\n",
      "\t\talert(\"è«è¼¸å",
      "¥ééµå­\");\r\n",
      "\telse\r\n",
      "\t\tobj.submit();}>\r\n",
      "\t\t<img src=\"images/Sh1.png\" alt=\"space\"><em>go</em></button>\r\n",
      "        </fieldset>\r\n",
      "      </form> -->\r\n",
      "\r\n",
      "    </div>\r\n",
      "    <!-- ################################################################################################ --> \r\n",
      "  </header>\r\n",
      "</div>\r\n",
      "<!-- ################################################################################################ --> \r\n",
      "<!-- ################################################################################################ --> \r\n",
      "<!-- ################################################################################################ -->\r\n",
      "<div class=\"wrapper row2\">\r\n",
      "\r\n",
      "  <div class=\"rounded\">\r\n",
      "    <nav id=\"mainav\" class=\"clear\"> \r\n",
      "      <!-- ################################################################################################ -->\r\n",
      "      <ul class=\"clear\">\r\n",
      "<a href=\"#_menu\" accesskey=\"M\" title=\"æ©«ååè½é£çµå-ææè¯çµçä»¥å¦éè¦çªçºä¸»\">:::</a>\r\n",
      "        <li class=\"active\"><a href=\"http://www.must.edu.tw/index.html\">é¦é </a></li>\r\n",
      "        <li><a class=\"drop\" href=\"http://www.must.edu.tw/about/aboutmust.html\">éæ¼ææ°</a>\r\n",
      "          <ul>\r\n",
      "            <li><a href=\"about/about-4.html \" target=\"_blank\">æ ¡å²</a></li>\r\n",
      "            <li><a href=\"about/about-2.html \" target=\"_blank\">æ ¡è¨</a></li>\r\n",
      "            <li onclick=\"ga('send', 'event', 'é¦é ', 'click','æ ¡æ­');\"><a href=\"about/about-3.html \" target=\"_blank\">æ ¡æ­</a></li>\r\n",
      "            <li><a href=\"about/about-16.html\" target=\"_blank\">åµæ ¡å",
      "è</a></li>\r\n",
      "            <li><a href=\"http://webc1.must.edu.tw/mustj001\" target=\"_blank\">è£äºæ</a></li>\r\n",
      "            <li><a href=\"http://webc2.must.edu.tw/jtmust002/\" target=\"_blank\">æ ¡é·</a></li>\r\n",
      "            <li><a href=\"http://www.must.edu.tw/ochart/1070411.pdf\" target=\"_blank\" title=\"æ¬æ ¡çµç¹ä»¥æ ¡é·é å°4é¢1ä¸­å¿è16åä¸ç´å®ä½å",
      "±åæ¨åææ°æ ¡åï¼è©³ç´°çµç¹çµæè«åèè¡æ¿å®ä½èå­¸è¡å®ä½ä¹é é¢\">å­¸æ ¡çµç¹ç³»çµ±å(PDFæ ¼å¼)</a></li>\r\n",
      "            <li><a href=\"about/about-7.html\" target=\"_blank\">æ²»æ ¡çå¿µ</a></li>\r\n",
      "            <li><a href=\"http://www.must.edu.tw/about/mustmap.html\" target=\"_blank\">å¦ä½å°ææ°</a></li>\r\n",
      "\t    <li><a href=\"http://webc1.must.edu.tw/jtmust073/index.php/2017-01-20-03-50-06/2017-01-23-06-53-36\" target=\"_blank\">æ ¡å",
      "§å¹³é¢å</a></li>\r\n",
      "            <li><a href=\"about/about-9.html\" target=\"_blank\">æ ¡åç¼å±éé»</a></li>\r\n",
      "            <li><a href=\"about/about-18.html\" target=\"_blank\">å­¸æ ¡å®ä½ãä½¿å½ãé¡æ¯åç¼å±ç®æ¨</a></li>\r\n",
      "          </ul>\r\n",
      "        </li>\r\n",
      "      <li><a class=\"drop\" href=\"http://www.must.edu.tw/about/acade.html\">å­¸è¡å®ä½</a>\r\n",
      "          <ul>\r\n",
      "            \r\n",
      "            <li><a class=\"drop\" href=\"http://webc1.must.edu.tw/jtmust058\" target=\"_blank\">å·¥å­¸é¢</a><ul>\r\n",
      "                <li><a href=\"http://meu.must.edu.tw/index.html\" target=\"_blank\">æ©æ¢°å·¥ç¨ç³»(å­¸å£«ç­)æ¨ç²¾å¯æ©é»å·¥ç¨ç ç©¶æ(ç¢©å£«ç­)</a></li>\r\n",
      "                <li><a href=\"http://webc2.must.edu.tw/jtmust005\" target=\"_blank\">é»æ©å·¥ç¨ç³»(å­¸å£«ç­ãç¢©å£«ç­)</a></li>\r\n",
      "                <li><a href=\"http://eed.must.edu.tw/\" target=\"_blank\">é»å­å·¥ç¨ç³»(å­¸å£«ç­ãç¢©å£«ç­)</a></li>\r\n",
      "                <li><a href=\"http://webc2.must.edu.tw/jtmust004/\" target=\"_blank\">åæ¨å·¥ç¨èç°å¢è³æºç®¡çç³»(å­¸å£«ç­ãç¢©å£«ç­)</a></li>\r\n",
      "\t\t<li><a href=\"http://webc2.must.edu.tw/jtmust020/\" target=\"_blank\">åå­¸å·¥ç¨èææç§æç³»(å­¸å£«ç­ãç¢©å£«ç­)</a></li>\r\n",
      "\t\t<li><a href=\"http://webc2.must.edu.tw/jtmust012\" target=\"_blank\">å",
      "é»å·¥ç¨ç³»(å­¸å£«ç­ãç¢©å£«ç­)</a></li>\r\n",
      "                <li><a href=\"http://webc1.must.edu.tw/jtmust074\" target=\"_blank\">è³è¨å·¥ç¨ç³»(å­¸å£«ç­)</a></li>\r\n",
      "                <li><a href=\"https://imaster.moe.gov.tw/home\" target=\"_blank\">ç¢æ¥­ç¢©å£«å°ç­</a></li>\r\n",
      "                \r\n",
      "                \r\n",
      "              </ul>\r\n",
      "            </li>\r\n",
      "            \r\n",
      "            <li><a class=\"drop\" href=\"http://webc2.must.edu.tw/jtmust015\" target=\"_blank\">ç®¡çå­¸é¢</a><ul>\r\n",
      "                <li><a href=\"http://webc2.must.edu.tw/jtmust028\" target=\"_blank\">å·¥æ¥­å·¥ç¨èç®¡çç³»(å­¸å£«ç­ãç¢©å£«ç­)</a></li>\r\n",
      "                <li><a href=\"http://www.im.must.edu.tw/im/\" target=\"_blank\">è³è¨ç®¡çç³»(å­¸å£«ç­ãç¢©å£«ç­)</a></li>\r\n",
      "\t\t<li><a href=\"http://webc2.must.edu.tw/jtmust018\" target=\"_blank\">è¡é·èæµéç®¡çç³»(å­¸å£«ç­)</a></li>\r\n",
      "                <li><a href=\"http://webc2.must.edu.tw/jtmust006\" target=\"_blank\">ä¼æ¥­ç®¡çç³»(å­¸å£«ç­)</a></li>\r\n",
      "                <li><a href=\"http://webc2.must.edu.tw/jtmust021\" target=\"_blank\">è²¡åéèç³»(å­¸å£«ç­)</a></li>\r\n",
      "                <li><a href=\"http://webc2.must.edu.tw/jtmust022\" target=\"_blank\">ç®¡çç ç©¶æ(ç¢©å£«ç­)</a></li>\r\n",
      "                <li><a href=\"http://webc2.must.edu.tw/jtmust013/\" target=\"_blank\">å",
      "¨çéç±ç®¡çä¸­å¿</a></li>\r\n",
      "                \r\n",
      "              </ul>\r\n",
      "            </li>\r\n",
      "            \r\n",
      "            <li><a class=\"drop\" href=\"http://webc1.must.edu.tw/jtmust043\" target=\"_blank\">æåç¢æ¥­å­¸é¢</a><ul>\r\n",
      "\t\t<li><a href=\"http://webc1.must.edu.tw/jtmust044\" target=\"_blank\">æåç¢æ¥­æ¨ç®¡çç ç©¶æ(ç¢©å£«ç­)</a></li>\r\n",
      "                <li><a href=\"http://webc2.must.edu.tw/jtmust019\" target=\"_blank\">æ",
      "é¤¨ç®¡çèå»èåµæç³»(å­¸å£«ç­)</a></li>\r\n",
      "                <li><a href=\"http://child.must.edu.tw/\" target=\"_blank\">å¹¼å",
      "ä¿è²ç³»(å­¸å£«ç­)</a></li>\r\n",
      "                <li><a href=\"http://webc2.must.edu.tw/jtmust101\" target=\"_blank\">ä¼éäºæ¥­ç®¡çç³»(å­¸å£«ç­)</a></li>\r\n",
      "                <li><a href=\"http://webc2.must.edu.tw/jtmust010/\" target=\"_blank\">æ¨é½¡æåç¢æ¥­ç®¡çç³»(å­¸å£«ç­)</a></li>\r\n",
      "                <li><a href=\"http://webc2.must.edu.tw/jtmust011\"  target=\"_blank\">å¸«è³å¹è²ä¸­å¿</a></li>\r\n",
      "                \r\n",
      "              </ul>\r\n",
      "            </li>\r\n",
      "            \r\n",
      "           <li><a class=\"drop\" href=\"http://webc2.must.edu.tw/jtmust003\" target=\"_blank\">äººæèè¨­è¨å­¸é¢</a><ul>\r\n",
      "                <li><a href=\"http://webc1.must.edu.tw/jtmust067/\" target=\"_blank\" >æç¨å¤èªç³»(å­¸å£«ç­)</a></li>\r\n",
      "                <li><a href=\"http://webc1.must.edu.tw/mustj004\"  target=\"_blank\">éåç®¡çç³»(å­¸å£«ç­)</a></li>\r\n",
      "\t\t<li><a href=\"http://webc2.must.edu.tw/jtmust102/\" target=\"_blank\" >å¤åªé«èéæ²ç¼å±ç³»(å­¸å£«ç­)</a></li>\r\n",
      "\t\t<li><a href=\"http://webc1.must.edu.tw/jtmust048/\" target=\"_blank\">åå¦åæç¨å­¸å£«å­¸ä½å­¸ç¨</a></li>\r\n",
      "\t\t<li><a href=\"http://webc1.must.edu.tw/jtmust041 \" target=\"_blank\">è¯èªææå­¸ä¸­å¿</a></li>\r\n",
      "                <li><a href=\"http://webc2.must.edu.tw/jtmust008\" target=\"_blank\">èæä¸­å¿</a></li>\r\n",
      "\t\t<li><a href=\"http://webc1.must.edu.tw/mustj006\" target=\"_blank\" >å¤å",
      "æç¾¤æåç ç©¶ä¸­å¿</a></li>\r\n",
      "\t\t\r\n",
      "            </ul>\r\n",
      "            </li>\r\n",
      "            \r\n",
      "             <li><a class=\"drop\" href=\"http://webc2.must.edu.tw/jtmust014\" target=\"_blank\">éè­æè²ä¸­å¿</a><ul>\r\n",
      "                <li><a href=\"http://webc1.must.edu.tw/jtmust081\"  target=\"_blank\">äººæèè¡æå­¸ä¸­å¿</a></li>\r\n",
      "                <li><a href=\"http://webc1.must.edu.tw/jtmust082\"  target=\"_blank\">ç¤¾æç§å­¸æå­¸ä¸­å¿</a></li>\r\n",
      "                <li><a href=\"http://webc1.must.edu.tw/jtmust083\" target=\"_blank\">èªç¶ç§å­¸æå­¸ä¸­å¿</a></li>\r\n",
      "               <li><a href=\"http://webc1.must.edu.tw/jtmust084\" target=\"_blank\" >èªè¨æå­¸ä¸­å¿</a></li>\r\n",
      "              </ul>\r\n",
      "            </li>\r\n",
      "            \r\n",
      "           <li><a class=\"drop\" href=\"#\">å",
      "¶ä»å®ä½</a> <ul>\r\n",
      "                \r\n",
      "                <li><a href=\"http://webs.must.edu.tw/ocmust001\"  target=\"_blank\">ææ°ç§å¤§æå¸«æ</a></li>\r\n",
      "              </ul>\r\n",
      "            </li> \r\n",
      "            \r\n",
      "          </ul>\r\n",
      "        </li>\r\n",
      "        \r\n",
      "        \r\n",
      "           <li><a class=\"drop\" href=\"http://www.must.edu.tw/about/admin.html\" target=\"_blank\">è¡æ¿å®ä½</a>\r\n",
      "               <ul>\r\n",
      "                <li><a href=\"http://webc1.must.edu.tw/mustj002\"  target=\"_blank\">ç¨½æ ¸å®¤</a></li>\r\n",
      "\r\n",
      "            <li><a class=\"drop\" href=\"http://webc2.must.edu.tw/jtmust024\"  target=\"_blank\">ç§æ¸å®¤</a><ul>\r\n",
      "                \r\n",
      "                <!--<li><a href=\"http://webc1.must.edu.tw/jtmust062\" target=\"_blank\">å",
      "¬éåºççµ</a></li>-->\r\n",
      "                <li><a href=\"http://webc1.must.edu.tw/jtmust060 \" target=\"_blank\">æ ¡åæåä¸­å¿</a></li>\r\n",
      "                \r\n",
      "                <!--<li><a href=\"http://admin.must.edu.tw/index.aspx?UnitID=20208\" target=\"_blank\">å",
      "©å²¸äº¤æµä¸­å¿</a></li>-->\r\n",
      "\t\t<!--<li><a href=\"http://admin.must.edu.tw/index.aspx?UnitID=20202\" target=\"_blank\">åéäº¤æµä¸­å¿</a></li>-->\t\t\r\n",
      "              </ul>\r\n",
      "            </li>\r\n",
      "\t\t\t\r\n",
      "\t\t\t<li><a href=\"http://webc1.must.edu.tw/jtmust062\" target=\"_blank\">å",
      "¬å",
      "±éä¿äºæ¥­å®¤</a></li>\r\n",
      "\t\t\t\r\n",
      "            <li><a href=\"http://webc1.must.edu.tw/jtmust077\" target=\"_blank\">æ ¡åç ç©¶è¾¦å",
      "¬å®¤</a></li>\r\n",
      "            \r\n",
      "            <li><a class=\"drop\" href=\"http://webc1.must.edu.tw/jtmust056 \" target=\"_blank\">åéæ¨å",
      "©å²¸äºåè</a><ul>\r\n",
      "                <li><a href=\"http://webc2.must.edu.tw/jtmust033\" target=\"_blank\">åéæè²èäº¤æµä¸­å¿</a></li>\r\n",
      "                <li><a href=\"http://webc2.must.edu.tw/jtmust032\" target=\"_blank\">å",
      "©å²¸æè²èäº¤æµä¸­å¿</a></li>\r\n",
      "                <!--<li><a href=\"http://webc2.must.edu.tw/jtmust027 \" target=\"_blank\">åæ¸¯æ¾³æè²èäº¤æµä¸­å¿</a></li>-->\r\n",
      "                <li><a href=\"http://webc2.must.edu.tw/jtmust031\" target=\"_blank\">å¢å¤çè¼å°èæåä¸­å¿</a></li>\r\n",
      "                \r\n",
      "              </ul>\r\n",
      "            </li>\r\n",
      "\r\n",
      "             <li><a class=\"drop\" href=\"http://webc1.must.edu.tw/jtmust066/\" target=\"_blank\">æåè</a><ul>\r\n",
      "                <li><a href=\"http://webc1.must.edu.tw/jtmust057\" target=\"_blank\">ç¶åæ¥­åçµ</a></li>\r\n",
      "                <li><a href=\"http://webc2.must.edu.tw/jtmust029\" target=\"_blank\">èª²åçµ</a></li>\r\n",
      "                <li><a href=\"http://webc2.must.edu.tw/jtmust026\" target=\"_blank\">è¨»åçµ</a></li>\r\n",
      "                <li><a href=\"http://webc2.must.edu.tw/jtmust025\" target=\"_blank\">æå­¸ç¼å±ä¸­å¿</a></li>\r\n",
      "              </ul>\r\n",
      "            </li>\r\n",
      "            \r\n",
      "             <li><a class=\"drop\" href=\"http://webc1.must.edu.tw/jtmust064\" target=\"_blank\">å­¸çäºåè</a><ul>\r\n",
      "                <li><a href=\"http://webc2.must.edu.tw/jtmust037\" target=\"_blank\">çæ´»è¼å°çµ</a></li>\r\n",
      "                <li><a href=\"http://webc1.must.edu.tw/jtmust063\" target=\"_blank\">èª²å¤æ´»åæå°çµ</a></li>\r\n",
      "                <li><a href=\"http://webc1.must.edu.tw/jtmust053\" target=\"_blank\">è¡çä¿å¥çµ</a></li>\r\n",
      "                <li><a href=\"http://webc1.must.edu.tw/jtmust055\" target=\"_blank\">é«è²å®¤</a></li>\r\n",
      "                <li><a href=\"http://webc1.must.edu.tw/jtmust070\" target=\"_blank\">ä½å®¿æåçµ</a></li>\r\n",
      "                <li><a href=\"http://webc1.must.edu.tw/jtmust042\" target=\"_blank\">æåå­¸ç¿ä¸­å¿</a></li>\r\n",
      "                <li><a href=\"http://webc1.must.edu.tw/jtmust069\" target=\"_blank\">è«®åè¼å°æ¨è·æ¶¯ç¼å±ä¸­å¿</a></li>\r\n",
      "                <li><a href=\"http://webc2.must.edu.tw/jtmust030\" target=\"_blank\">è«®åè¼å°æ¨è·æ¶¯ç¼å±ä¸­å¿[è³æºæå®¤]</a></li>\r\n",
      "              </ul>\r\n",
      "            </li>\r\n",
      "            \r\n",
      "            \r\n",
      "             <li><a class=\"drop\" href=\"http://webc1.must.edu.tw/jtmust072\" target=\"_blank\">ç¸½åè</a><ul>\r\n",
      "                <li><a href=\"http://webc1.must.edu.tw/jtmust065\" target=\"_blank\">ä¿ç®¡çµ</a></li>\r\n",
      "                <li><a href=\"http://webc1.must.edu.tw/jtmust073\" target=\"_blank\">äºåçµ</a></li>\r\n",
      "                <li><a href=\"http://webc1.must.edu.tw/jtmust052\" target=\"_blank\">çç¹çµ</a></li>\r\n",
      "                <li><a href=\"http://webc1.must.edu.tw/jtmust050\" target=\"_blank\">æ¡è³¼çµ</a></li>\r\n",
      "                <li><a href=\"http://webc1.must.edu.tw/jtmust075\" target=\"_blank\">ææ¸çµ</a></li>\r\n",
      "                <li><a href=\"http://webc1.must.edu.tw/jtmust049\" target=\"_blank\">åºç´çµ</a></li>\r\n",
      "              </ul>\r\n",
      "            </li>\r\n",
      "            \r\n",
      "             <li><a class=\"drop\" href=\"http://webc1.must.edu.tw/jtmust045\" target=\"_blank\">ç ç©¶ç¼å±è</a><ul>\r\n",
      "                <li><a href=\"http://webc2.must.edu.tw/jtmust035\" target=\"_blank\">ç ç©¶èæè¡æ¨åä¸­å¿</a></li>\r\n",
      "                <li><a href=\"http://webc1.must.edu.tw/jtmust054\" target=\"_blank\">æ ¡åä¼åçµ</a></li>\r\n",
      "                <li><a href=\"http://webc1.must.edu.tw/jtmust046 \" target=\"_blank\">ç¢å­¸åæè¡ç§»è½ä¸­å¿</a></li>\r\n",
      "                <li><a href=\"http://webc1.must.edu.tw/jtmust047\" target=\"_blank\">åµæ°è²æä¸­å¿</a></li>\r\n",
      "              </ul>\r\n",
      "            </li>\r\n",
      "            \r\n",
      "            \r\n",
      "             <li><a  href=\"http://www.lib.must.edu.tw/\" target=\"_blank\">åæ¸é¤¨</a>\r\n",
      "             \r\n",
      "                <!-- <li><a class=\"drop\" href=\"http://www.lib.must.edu.tw/\" target=\"_blank\">åæ¸é¤¨</a><ul>\r\n",
      "                <li><a href=\"http://admin.must.edu.tw/index.aspx?UnitID=20602\" target=\"_blank\">æ¡è¨ªç·¨ç®çµ</a></li>\r\n",
      "                <li><a href=\"http://admin.must.edu.tw/index.aspx?UnitID=20603\" target=\"_blank\">è®è",
      "æåçµ</a></li>\r\n",
      "                <li><a href=\"http://admin.must.edu.tw/index.aspx?UnitID=20604\" target=\"_blank\">ç³»çµ±è³è¨çµ</a></li> </ul> -->\r\n",
      "            </li>\r\n",
      "            \r\n",
      "              <li><a href=\"http://webc2.must.edu.tw/jtmust001/\" target=\"_blank\">è³è¨è</a></li>\r\n",
      "             <!-- \r\n",
      "                <li><a class=\"drop\" href=\"http://admin.must.edu.tw/index.aspx?UnitID=20701\" target=\"_blank\">è³è¨è</a><ul>\r\n",
      "                <li><a href=\"http://admin.must.edu.tw/index.aspx?UnitID=20703\" target=\"_blank\">æ ¡åè»é«çµ</a></li>\r\n",
      "                <li><a href=\"http://admin.must.edu.tw/index.aspx?UnitID=20704\" target=\"_blank\">ç¶²è·¯æåçµ</a></li>\r\n",
      "                <li><a href=\"http://admin.must.edu.tw/index.aspx?UnitID=20705\" target=\"_blank\">æå­¸æ¯æ´çµ</a></li> </ul>\r\n",
      "            </li> -->\r\n",
      "            \r\n",
      "            <li><a href=\"http://webc1.must.edu.tw/jtmust059\" target=\"_blank\">æè¨å®¤</a></li>\r\n",
      "\r\n",
      "            <li><a href=\"http://webc1.must.edu.tw/mustj007\" target=\"_blank\">äººäºå®¤</a></li>\r\n",
      "            \r\n",
      "             <li><a class=\"drop\" href=\"http://webc2.must.edu.tw/jtmust040/\" target=\"_blank\">é²ä¿®æ¨å»£é¨</a><ul>\r\n",
      "                <li><a href=\"http://webc2.must.edu.tw/jtmust034\" target=\"_blank\">é²ä¿®æ¨å»£é¨è¨»åçµ</a></li>\r\n",
      "                <li><a href=\"http://webc2.must.edu.tw/jtmust039\" target=\"_blank\">é²ä¿®æ¨å»£é¨èª²åçµ</a></li>\r\n",
      "                <li><a href=\"http://webc2.must.edu.tw/jtmust036\" target=\"_blank\">é²ä¿®æ¨å»£é¨å­¸çäºåçµ</a></li>\r\n",
      "                <li><a href=\"http://webc2.must.edu.tw/jtmust023\" target=\"_blank\">é²ä¿®æ¨å»£é¨ç¸½åçµ</a></li>\r\n",
      "                <li><a href=\"http://eec.must.edu.tw\" target=\"_blank\">æ¨å»£æè²ä¸­å¿</a></li>\r\n",
      "              </ul>\r\n",
      "            </li>\r\n",
      "            \r\n",
      "            <li><a  href=\"http://webc2.must.edu.tw/jtmust038\" target=\"_blank\">é²ä¿®å­¸é¢æ¨å°ç§é²ä¿®å­¸æ ¡</a>\r\n",
      "\r\n",
      "         <!--    <li><a class=\"drop\" href=\"http://admin.must.edu.tw/index.aspx?UnitID=21301\" target=\"_blank\">é²ä¿®å­¸é¢æ¨å°ç§é²ä¿®å­¸æ ¡</a><ul>\r\n",
      "                <li><a href=\"http://webc2.must.edu.tw/jtmust038\" target=\"_blank\">é²ä¿®å­¸é¢æ¨å°ç§é²ä¿®å­¸æ ¡æåçµ</a></li>\r\n",
      "                <li><a href=\"http://webc2.must.edu.tw/jtmust036\" target=\"_blank\">é²ä¿®å­¸é¢æ¨å°ç§é²ä¿®å­¸æ ¡äºåçµ</a></li>\r\n",
      "                <li><a href=\"http://webc2.must.edu.tw/jtmust023\" target=\"_blank\">é²ä¿®å­¸é¢æ¨å°ç§é²ä¿®å­¸æ ¡ç¸½åçµ</a></li>                \r\n",
      "              </ul>-->\r\n",
      "            </li>\r\n",
      "            \r\n",
      "            <li><a href=\"https://www.must.edu.tw/chinese/11_subsite_science/index.aspx?UnitID=20801\" target=\"_blank\">æ³è¦åæä»¶ç®¡å¶ä¸­å¿</a></li>\r\n",
      "\t\t\t\r\n",
      "            <li><a class=\"drop\" href=\"http://webc1.must.edu.tw/jtmust068\" target=\"_blank\">è»è¨å®¤</a>\r\n",
      "\t\t\t<ul>\r\n",
      "\t\t\t<li><a href=\"http://webc1.must.edu.tw/jtmust061\" target=\"_blank\">æ ¡å®ä¸­å¿</a></li>\r\n",
      "            </ul></li>\r\n",
      "\t\t\t\r\n",
      "            <li><a href=\"http://webc1.must.edu.tw/jtmust051/\" target=\"_blank\">ç°å¢å®å",
      "¨è¡çä¸­å¿</a>\r\n",
      "            </li>\r\n",
      "            \r\n",
      "                <li><a class=\"drop\" href=\"#\" target=\"_blank\">å",
      "¶ä»å®ä½</a><ul>\r\n",
      "                <li><a href=\"http://webs.must.edu.tw/ocmust004/\" target=\"_blank\">åäººè³æä¿è­·å°å</a></li>\r\n",
      "                <li><a href=\"http://webs.must.edu.tw/ocmust004/\" target=\"_blank\">æºè²¡æ¬å°å</a></li>\r\n",
      "                <li><a href=\"https://www.must.edu.tw/chinese/10_subsite_admin/index.aspx?UnitID=Z0032\" target=\"_blank\">ç¢å­¸ç ç¼ç¶²ç«</a></li>\r\n",
      "                <li><a href=\"https://www.must.edu.tw/chinese/10_subsite_admin/index.aspx?UnitID=Z0001\" target=\"_blank\">æ§å¥å¹³ç­æè²è³è¨ç¶²</a></li>\r\n",
      "                \r\n",
      "                <li><a href=\"https://www.must.edu.tw/chinese/10_subsite_admin/index.aspx?UnitID=Z0010\" target=\"_blank\">ææ°å­¸å ±</a></li>\r\n",
      "                <li><a href=\"https://www.must.edu.tw/chinese/10_subsite_admin/index.aspx?UnitID=Z0024\" target=\"_blank\">æ°ç«¹åç­ç¥è¯çè¨ç«ç¶²ç«</a></li>\r\n",
      "                <li><a href=\"https://www.must.edu.tw/chinese/11_subsite_science/index.aspx?UnitID=Z0002\" target=\"_blank\">é»å­ç³»ç³»åæ</a></li>\r\n",
      "                <li><a href=\"http://webs.must.edu.tw/ocmust002\" target=\"_blank\">æ°ç«¹ç¸£ååå±",
      "å®¶æè²æåä¸­å¿(åç¤¾åä¿æ¯ç³»çµ±)</a></li>\r\n",
      "              </ul>\r\n",
      "            </li>            \r\n",
      "          </ul>\r\n",
      "        </li>\r\n",
      "        \r\n",
      "        <li><a class=\"drop\" href=\"http://www.must.edu.tw/about/admissions.html\">æç</a>\r\n",
      "        <ul>\r\n",
      "\t\t\t<li><a class=\"drop\"  target=\"_blank\">ç ç©¶ææç</a><ul>\r\n",
      "                \t\t<li><a href=\"http://webs.must.edu.tw/ocmust113/\" target=\"_blank\">ç¢©å£«ç­çè©¦å",
      "¥å­¸</a></li>\r\n",
      "\t\t\t\t<li><a href=\"http://webs.must.edu.tw/ocmust114/\" target=\"_blank\">ç¢©å£«ç­æ¨ç¢©å£«å¨è·å°ç­æç</a></li></ul></li>            \r\n",
      "            \t\t<li><a class=\"drop\" target=\"_blank\">æ¥éé¨æç</a><ul>\r\n",
      "               \t\t\t<li><a href=\"http://webs.must.edu.tw/ocmust108/\" target=\"_blank\">é«ä¸­ç³è«å",
      "¥å­¸</a></li>\r\n",
      "\t\t\t\t<li><a href=\"http://webs.must.edu.tw/ocmust109/\" target=\"_blank\">éåç¸¾åªå®ç¨æç</a></li>\r\n",
      "\t\t\t\t<li><a href=\"http://webs.must.edu.tw/ocmust110/\" target=\"_blank\">ç¹æ®é¸æ</a></li>\r\n",
      "\t\t\t\t<li><a href=\"http://webs.must.edu.tw/ocmust111/\" target=\"_blank\">æåªçå¯©å",
      "¥å­¸</a></li>\r\n",
      "\t\t\t\t<li><a href=\"http://webs.must.edu.tw/ocmust105/\" target=\"_blank\">çé¸å",
      "¥å­¸</a></li>\r\n",
      "\t\t\t\t<li><a href=\"http://webs.must.edu.tw/ocmust106/\" target=\"_blank\">è¯åç»è¨åç¼</a></li>\r\n",
      "\t\t\t\t<li><a href=\"http://webs.must.edu.tw/ocmust112/\" target=\"_blank\">èº«å¿éç¤å­¸ççè©¦å",
      "¥å­¸</a></li></ul></li>\r\n",
      "            \t\t<li><a href=\"http://webs.must.edu.tw/ocmust101/\" target=\"_blank\">é²ä¿®é¨æç</a></li>\r\n",
      "\t\t\t<li><a href=\"http://webs.must.edu.tw/ocmust102/\" target=\"_blank\">åç­äºè¼ªæçå°å/ç¢å­¸ææè¨ç«</a></li>\r\n",
      "            \t\t<li><a href=\"http://fg.must.edu.tw/\" target=\"_blank\">å¤åå­¸çæç</a></li>\r\n",
      "\t\t\t<li><a href=\"http://webs.must.edu.tw/ocmust104/\" target=\"_blank\">è½å­¸çæç</a></li>\t        \r\n",
      "        </ul>\r\n",
      "\t\t</li>        \r\n",
      "        \r\n",
      "        <li><a class=\"drop\" href=\"http://www.must.edu.tw/about/servies.html\" target=\"_blank\">ç·ä¸æå</a>\r\n",
      "         <ul>\r\n",
      "            <li><a href=\"http://www.must.edu.tw/about/qa.html\" target=\"_blank\">å¸¸è¦åç­</a></li>\r\n",
      "            <li><a class=\"drop\" href=\"#\">æåç³»çµ±</a>\r\n",
      "             <ul>\r\n",
      "                <li><a href=\"http://sss.must.edu.tw/std_service.html\" target=\"_blank\">å­¸çå°å</a></li>\r\n",
      "                <li><a href=\"http://sss.must.edu.tw/teach_service.html\" target=\"_blank\">æè·å¡å°å</a></li>\r\n",
      "               <!-- <li><a href=\"http://sss.must.edu.tw/chief_service.html\" target=\"_blank\">è¡æ¿ä¸»ç®¡å°å</a></li>\r\n",
      "                <li><a href=\"http://sss.must.edu.tw/stuff_service.html\" target=\"_blank\">è¡æ¿äººå¡å°å</a></li> -->\r\n",
      "                </ul></li>\r\n",
      "                \r\n",
      "             <li><a class=\"drop\" href=\"http://www.must.edu.tw/about/download.html\">æªæ¡ä¸è¼</a>\r\n",
      "             <ul>\r\n",
      "                <li><a href=\"http://ftp.must.edu.tw/ftp/free/form/index.htm\" target=\"_blank\">å¸¸ç¨è¡¨æ ¼(éæ ¡å",
      "§é£ç·)</a></li>\r\n",
      "                <li><a href=\"http://www.must.edu.tw/about/download.html\" target=\"_blank\">æ ¡å¾½/å°å/ç³»çµ±çµç¹å</a></li>\r\n",
      "                <li><a href=\"http://www.must.edu.tw/chinese/MUST-ISMS-D-022.PDF\" target=\"_blank\">è³è¨æåç³è«å®(PDFæ ¼å¼)</a></li>\r\n",
      "\t\t</ul></li>\r\n",
      "              \r\n",
      "            <li><a href=\"mailto://vanjj@must.edu.tw\" target=\"_blank\">ç¶²ç«åé¡åæ </a></li>\r\n",
      "\t    <li><a href=\"mailto://csc@must.edu.tw;president@must.edu.tw;secretariat.must@must.edu.tw;chen083487@must.edu.tw \">æ ¡é·ä¿¡ç®±</a></li>\r\n",
      "            <li><a href=\"mailto://csc@must.edu.tw\">è£äºé·ä¿¡ç®±</a></li>  \r\n",
      "            <li><a href=\"http://www.must.edu.tw/about/calendar.html\" target=\"_blank\">æ ¡åè¡äºæ</a></li>    \r\n",
      "              </ul>  </li>\r\n",
      "\t  \r\n",
      "            <li><a  href=\"http://webs.must.edu.tw/jtmust060\" target=\"_blank\">å¼±å¢å©å­¸å¸å</a></li>\r\n",
      " \r\n",
      "      </ul>\r\n",
      "      <!-- ################################################################################################ --> \r\n",
      "    </nav>\r\n",
      "  </div>\r\n",
      "</div>\r\n",
      "<!-- ################################################################################################ --> \r\n",
      "<!-- ################################################################################################ --> \r\n",
      "<!-- ################################################################################################ -->\r\n",
      "                                                                                                                                                                                                                                                                                                                                                                                                                                                                                                                                                                                                                                                                                                                                                                                                                                                                                                                                                                                                                                                                                                                                                                                                                                                                                                                                                                                                                                                                                                                                                                                                                                                                                                                                                                                                                                                                                                                                                                                                                                                                                                                                                                                                                                                                                                                                                                                                                                                                                                                                                                                                                                                                                                                                                                                                                                                                                                                                                                                                                                                                                                                                                                                                                                                                     \r\n",
      "<!-- ################################################################################################ -->\r\n",
      "<div class=\"wrapper row3\">\r\n",
      "  <div class=\"rounded\">\r\n",
      "  <a href=\"#_center\" accesskey=\"C\" title=\"ä¸»è¦å",
      "§å®¹åå¡\">:::ä¸»è¦å",
      "§å®¹</a>\r\n",
      "    <main class=\"container clear\"> \r\n",
      "\t\r\n",
      "      <!-- main body --> \r\n",
      "      <!-- ################################################################################################ -->\r\n",
      "      <div class=\"group btmspace-30\" > \r\n",
      "      <a href=\"https://www.must.edu.tw/about/admissions.html\"><img src=\"about/images/1080214.jpg\"> </a>\r\n",
      "      </div>\r\n",
      "      <!-- / main body -->\r\n",
      "      <div class=\"clear\"></div>\r\n",
      "    </main>\r\n",
      "  </div>\r\n",
      "</div>\r\n",
      "<!-- ################################################################################################ --> \r\n",
      "<!-- ################################################################################################ --> \r\n",
      "<!-- ################################################################################################ -->\r\n",
      "<div class=\"wrapper row4\">\r\n",
      "  <div class=\"rounded\">\r\n",
      "    <footer id=\"footer\" class=\"clear\"> \r\n",
      "      <!-- ################################################################################################ -->\r\n",
      "      <div class=\"one_third first\">\r\n",
      "        <figure class=\"center\">\r\n",
      "        <iframe title=\"MUST Map-æ¬æ ¡ä½æ¼æ°ç«¹ç¸£æ°è±éæ°èè·¯ä¸èãä½æ¼ç«¹åå¾æ¹å£æ¹å1èçéå·¦å´èåº·æ¨è·¯äº¤åè·¯å£ã\" name='map' src=\"https://www.google.com/maps/embed?pb=!1m18!1m12!1m3!1d3619.999953283614!2d120.98902801500292!3d24.863851184052347!2m3!1f0!2f0!3f0!3m2!1i1024!2i768!4f13.1!3m3!1m2!1s0x34683154f00767ff%3A0xc036e80a53993101!2zMzA05paw56u557ij5paw6LGQ6YSJ5paw6IiI6LevMeiZnw!5e0!3m2!1szh-TW!2stw!4v1444721457247\" width=\"300\" height=\"225\" frameborder=\"0\" style=\"border:0\" allowfullscreen></iframe>\r\n",
      "          \r\n",
      "        </figure>\r\n",
      "      </div>\r\n",
      "      <div class=\"one_third\">\r\n",
      "        <address>\r\n",
      "         ææ°ç§æå¤§å­¸<a href=\"http://webs.must.edu.tw/pagecount/page_list.php?FileName=must_school\" target=\"_blank\"><img src=\"icon.png\"></a><br>\r\n",
      "         Minghsin University of Science and Technology <br>\r\n",
      "         å°åï¼30401æ°ç«¹ç¸£æ°è±éæ°èè·¯1è<br>\r\n",
      "         Address<br>\r\n",
      "         No.1, Xinxing Rd., Xinfeng Hsinchu 30401, Taiwan(R.O.C) <br>\r\n",
      "        <br>\r\n",
      "        <i class=\"fa fa-phone pright-10\"></i> é»è©±/å³çï¼(03)5593142 / <br /> (03)5595142 <br />\r\n",
      "        <i class=\"fa fa-phone pright-10\"></i> TEL/FAXï¼ï¼+886-3-5593142 / +886-3-5595142 <br />\r\n",
      "        <i class=\"fa fa-envelope-o pright-10\"></i> <a href=\"http://www.must.edu.tw/about/contact.html\" title=\"åå¾èæè¯çµ¡é£çµ\">Contact Us</a>\r\n",
      "        </address>\r\n",
      "      </div>\r\n",
      "      <div class=\"one_third\">\r\n",
      "        <p class=\"nospace btmspace-10\">What's News!Watch This!</p>\r\n",
      "\t\t<div class=\"imgl borderedbox\">\r\n",
      "\t\t<img src=\"//qr-official.line.me/L/jsoAW0_CS6.png\" style=\"height:120px; width:120px;\">\r\n",
      "\t\t<a href=\"https://line.me/R/ti/p/%40ywx9970x\"><img style=\"height:40px; width:100px;\" border=\"0\" alt=\"å å",
      "¥å¥½å\" src=\"https://scdn.line-apps.com/n/line_add_friends/btn/zh-Hant.png\"></a>\r\n",
      "\t\t</div>\r\n",
      "        <ul class=\"faico clear\">\r\n",
      "          <li><a class=\"faicon-facebook\" href=\"https://www.facebook.com/mustminghsin\" title=\"ææ°èæ¸ç²çµ²é é¢\"><i class=\"fa fa-facebook\"></i></a></li>\r\n",
      "          <!--<li><a class=\"faicon-rss\" href=\"http://www.must.edu.tw/rss.aspx\"><i class=\"fa fa-rss\"></i></a></li>-->          \r\n",
      "\t\t  <li></li>\t\t  \r\n",
      "        </ul>        \r\n",
      "      </div>\r\n",
      "\t  <div><a href=\"http://www.handicap-free.nat.gov.tw/Applications/Detail?category=20161027164651\" title=\"ç¡éç¤ç¶²ç«\"><img src=\"images/demo/A.jpg\" border=\"0\" width=\"88\" height=\"31\" alt=\"ééA+åªå",
      "ç­ç´ç¡éç¤ç¶²é æª¢æ¸¬\" /></a> </div>\r\n",
      "\t    \r\n",
      "\t  <!-- ################################################################################################ --> \r\n",
      "\t\t\r\n",
      "\t</footer>\r\n",
      "  </div>\r\n",
      "</div>\r\n",
      "<!-- ################################################################################################ --> \r\n",
      "<!-- ################################################################################################ --> \r\n",
      "<!-- ################################################################################################ -->\r\n",
      "<div class=\"wrapper row5\">\r\n",
      "  <a href=\"#_bottom\" accesskey=\"B\" title=\"ç¶²é æä¸æ¹\">:::ä¸æ¹</a>  \r\n",
      "  <div id=\"copyright\" class=\"clear\"> \r\n",
      "\r\n",
      "    <!-- ################################################################################################ -->\r\n",
      "    <p class=\"fl_left\">Copyright &copy; 2015 - All Rights Reserved - <a href=\"#\">Minghsin University of Science and Technology</a></p>\r\n",
      "    <p class=\"fl_right\">Template by <a target=\"_blank\" href=\"http://www.os-templates.com/\" title=\"Free Website Templates\">OS Templates</a></p>\r\n",
      "    \r\n",
      "    <!-- ################################################################################################ --> \r\n",
      "  </div>\r\n",
      "  \r\n",
      "</div>\r\n",
      "<!-- JAVASCRIPTS --> \r\n",
      "<script src=\"layout/scripts/jquery.min.js\"></script> \r\n",
      "<script src=\"layout/scripts/jquery.fitvids.min.js\"></script> \r\n",
      "<script src=\"layout/scripts/jquery.mobilemenu.js\"></script> \r\n",
      "<script src=\"layout/scripts/tabslet/jquery.tabslet.min.js\"></script>\r\n",
      "<script>\r\n",
      "\tfunction myFun1(){\r\n",
      "\t\tvar x=document.getElementById(\"myFun1\");\r\n",
      "\t\tif (x.style.display === \"none\"){\r\n",
      "\t\t\tx.style.display = \"block\";\r\n",
      "\t\t}else{\r\n",
      "\t\t\tx.style.display = \"none\";\r\n",
      "\t\t}\r\n",
      "\t}\r\n",
      "\tfunction myFun2(){\r\n",
      "\t\tvar x=document.getElementById(\"myFun2\");\r\n",
      "\t\tif (x.style.display === \"none\"){\r\n",
      "\t\t\tx.style.display = \"block\";\r\n",
      "\t\t}else{\r\n",
      "\t\t\tx.style.display = \"none\";\r\n",
      "\t\t}\r\n",
      "\t}\r\n",
      "\tfunction myFun3(){\r\n",
      "\t\tvar x=document.getElementById(\"myFun3\");\r\n",
      "\t\tif (x.style.display === \"none\"){\r\n",
      "\t\t\tx.style.display = \"block\";\r\n",
      "\t\t}else{\r\n",
      "\t\t\tx.style.display = \"none\";\r\n",
      "\t\t}\r\n",
      "\t}\r\n",
      "\tfunction myFun4(){\r\n",
      "\t\tvar x=document.getElementById(\"myFun4\");\r\n",
      "\t\tif (x.style.display === \"none\"){\r\n",
      "\t\t\tx.style.display = \"block\";\r\n",
      "\t\t}else{\r\n",
      "\t\t\tx.style.display = \"none\";\r\n",
      "\t\t}\r\n",
      "\t}\r\n",
      "</script>\r\n",
      "</body>\r\n",
      "</html>\n"
     ]
    }
   ],
   "source": [
    "import requests\n",
    "a=requests.get(\"http://www.must.edu.tw/\")\n",
    "print(a.text)"
   ]
  },
  {
   "cell_type": "markdown",
   "metadata": {},
   "source": [
    "# 第二章"
   ]
  },
  {
   "cell_type": "markdown",
   "metadata": {},
   "source": [
    "# 單行註解"
   ]
  },
  {
   "cell_type": "code",
   "execution_count": 8,
   "metadata": {},
   "outputs": [
    {
     "data": {
      "text/plain": [
       "8"
      ]
     },
     "execution_count": 8,
     "metadata": {},
     "output_type": "execute_result"
    }
   ],
   "source": [
    "#單行註解\n",
    "a=3\n",
    "b=5\n",
    "a+b"
   ]
  },
  {
   "cell_type": "markdown",
   "metadata": {},
   "source": [
    "# 多行註解"
   ]
  },
  {
   "cell_type": "code",
   "execution_count": 9,
   "metadata": {},
   "outputs": [
    {
     "data": {
      "text/plain": [
       "8"
      ]
     },
     "execution_count": 9,
     "metadata": {},
     "output_type": "execute_result"
    }
   ],
   "source": [
    "'''\n",
    "多行註解\n",
    "'''\n",
    "a=3\n",
    "b=5\n",
    "a+b"
   ]
  },
  {
   "cell_type": "markdown",
   "metadata": {},
   "source": [
    "# 變數的設定"
   ]
  },
  {
   "cell_type": "code",
   "execution_count": 10,
   "metadata": {},
   "outputs": [],
   "source": [
    "x=1"
   ]
  },
  {
   "cell_type": "markdown",
   "metadata": {},
   "source": [
    "# 印出來"
   ]
  },
  {
   "cell_type": "code",
   "execution_count": 6,
   "metadata": {},
   "outputs": [
    {
     "name": "stdout",
     "output_type": "stream",
     "text": [
      "3\n",
      "6\n",
      "9\n"
     ]
    }
   ],
   "source": [
    "x,y,z = 3,6,9\n",
    "print(x)\n",
    "print(y)\n",
    "print(z)"
   ]
  },
  {
   "cell_type": "markdown",
   "metadata": {},
   "source": [
    "# 一般的加 乘 次方"
   ]
  },
  {
   "cell_type": "code",
   "execution_count": 3,
   "metadata": {},
   "outputs": [
    {
     "name": "stdout",
     "output_type": "stream",
     "text": [
      "4 30 531441\n"
     ]
    }
   ],
   "source": [
    "x,y,z = 3,6,9\n",
    "x += 1      \n",
    "y *= 5      \n",
    "z **=6      \n",
    "print(x,y,z)"
   ]
  },
  {
   "cell_type": "markdown",
   "metadata": {},
   "source": [
    "# 傳回輸入數值的平方根"
   ]
  },
  {
   "cell_type": "code",
   "execution_count": 4,
   "metadata": {},
   "outputs": [
    {
     "name": "stdout",
     "output_type": "stream",
     "text": [
      "6.0\n"
     ]
    }
   ],
   "source": [
    "import math\n",
    "a,b,c=3,4,5\n",
    "s=(a+b+c)/2\n",
    "d=math.sqrt(s*(s-a)*(s-b)*(s-c))\n",
    "print(d)"
   ]
  },
  {
   "cell_type": "markdown",
   "metadata": {},
   "source": [
    "# 傳回值"
   ]
  },
  {
   "cell_type": "code",
   "execution_count": 5,
   "metadata": {},
   "outputs": [
    {
     "name": "stdout",
     "output_type": "stream",
     "text": [
      "<class 'int'>\n"
     ]
    },
    {
     "data": {
      "text/plain": [
       "140709118595824"
      ]
     },
     "execution_count": 5,
     "metadata": {},
     "output_type": "execute_result"
    }
   ],
   "source": [
    "x=254\n",
    "print(type(x))\n",
    "id(x)\n",
    "  "
   ]
  },
  {
   "cell_type": "markdown",
   "metadata": {},
   "source": [
    "# 傳回值2"
   ]
  },
  {
   "cell_type": "code",
   "execution_count": 6,
   "metadata": {},
   "outputs": [
    {
     "name": "stdout",
     "output_type": "stream",
     "text": [
      "<class 'str'>\n"
     ]
    },
    {
     "data": {
      "text/plain": [
       "1859646025944"
      ]
     },
     "execution_count": 6,
     "metadata": {},
     "output_type": "execute_result"
    }
   ],
   "source": [
    "x='write'\n",
    "print(type(x))\n",
    "id(x)\n"
   ]
  },
  {
   "cell_type": "markdown",
   "metadata": {},
   "source": [
    "# 求圓錐體面積"
   ]
  },
  {
   "cell_type": "code",
   "execution_count": 1,
   "metadata": {},
   "outputs": [
    {
     "name": "stdout",
     "output_type": "stream",
     "text": [
      "95.42587685278995\n"
     ]
    }
   ],
   "source": [
    "#半徑為4.5，el 高度為4.5的圓錐體面積為何?\n",
    "import math\n",
    "print((4.5*4.5*math.pi*4.5)/3)"
   ]
  },
  {
   "cell_type": "markdown",
   "metadata": {},
   "source": [
    "# 一般的除法以及求商跟餘數"
   ]
  },
  {
   "cell_type": "code",
   "execution_count": 2,
   "metadata": {},
   "outputs": [
    {
     "name": "stdout",
     "output_type": "stream",
     "text": [
      "5.333333333333333\n",
      "5\n",
      "1\n"
     ]
    }
   ],
   "source": [
    "x=16\n",
    "y=3\n",
    "print(x/y)\n",
    "print(x//y) \n",
    "print(x%y)  "
   ]
  },
  {
   "cell_type": "markdown",
   "metadata": {},
   "source": [
    "# 關係運算"
   ]
  },
  {
   "cell_type": "code",
   "execution_count": 4,
   "metadata": {},
   "outputs": [
    {
     "name": "stdout",
     "output_type": "stream",
     "text": [
      "True\n",
      "False\n",
      "20\n"
     ]
    }
   ],
   "source": [
    "x=10\n",
    "print(20==20)\n",
    "y=20\n",
    "print(x==y)\n",
    "x=y\n",
    "print(x)"
   ]
  },
  {
   "cell_type": "markdown",
   "metadata": {},
   "source": [
    "# 判斷是否為真"
   ]
  },
  {
   "cell_type": "code",
   "execution_count": 5,
   "metadata": {},
   "outputs": [
    {
     "name": "stdout",
     "output_type": "stream",
     "text": [
      "True\n"
     ]
    }
   ],
   "source": [
    "a,b,c=10,20,30\n",
    "print(a<=b<=c)"
   ]
  },
  {
   "cell_type": "markdown",
   "metadata": {},
   "source": [
    "# 減法"
   ]
  },
  {
   "cell_type": "code",
   "execution_count": 6,
   "metadata": {},
   "outputs": [
    {
     "name": "stdout",
     "output_type": "stream",
     "text": [
      "0.0015926269999999576\n"
     ]
    }
   ],
   "source": [
    "x=3.141592627\n",
    "print(x-3.14)"
   ]
  },
  {
   "cell_type": "markdown",
   "metadata": {},
   "source": [
    "# 判斷是否為真2"
   ]
  },
  {
   "cell_type": "code",
   "execution_count": 7,
   "metadata": {},
   "outputs": [
    {
     "name": "stdout",
     "output_type": "stream",
     "text": [
      "False\n",
      "True\n",
      "True\n"
     ]
    }
   ],
   "source": [
    "y=2010\n",
    "print(y%4==0 and y%100!=0 or y%400==0)\n",
    "y=2012\n",
    "print(y%4==0 and y%100!=0 or y%400==0)\n",
    "y=2000\n",
    "print(y%4==0 and y%100!=0 or y%400==0)"
   ]
  },
  {
   "cell_type": "markdown",
   "metadata": {},
   "source": [
    "# 型態轉換"
   ]
  },
  {
   "cell_type": "code",
   "execution_count": 11,
   "metadata": {},
   "outputs": [
    {
     "name": "stdout",
     "output_type": "stream",
     "text": [
      "12.5\n",
      "123\n",
      "123.0\n",
      "123\n",
      "The value of x is 32.5and y is 40000\n",
      "The value of x is 32.5and y is 40000\n"
     ]
    }
   ],
   "source": [
    "x=12\n",
    "y=float(x)+0.5\n",
    "print(y)\n",
    "print(int('123'))\n",
    "print(float('123'))\n",
    "print(int(123.333))\n",
    "x=10*3.25              #3.25\n",
    "y=200*200              #40000\n",
    "s='The value of x is ' + str(x) + 'and y is ' + str(y)\n",
    "s1='The value of x is ' + repr(x) + 'and y is ' + repr(y)\n",
    "print(s)\n",
    "print(s1)"
   ]
  },
  {
   "cell_type": "markdown",
   "metadata": {},
   "source": [
    "# 圓周率、求2的3次方、平方根"
   ]
  },
  {
   "cell_type": "code",
   "execution_count": 12,
   "metadata": {},
   "outputs": [
    {
     "name": "stdout",
     "output_type": "stream",
     "text": [
      "3.141592653589793\n",
      "8.0\n",
      "26.423892221536985\n",
      "5.0\n"
     ]
    }
   ],
   "source": [
    "import math\n",
    "print(math.pi)\n",
    "print(math.pow(2,3))\n",
    "print(8.3*10.58*math.sin(37.0/180*math.pi)/2)\n",
    "print(math.sqrt(25))"
   ]
  },
  {
   "cell_type": "markdown",
   "metadata": {},
   "source": [
    "# 輸入半徑後求圓面積"
   ]
  },
  {
   "cell_type": "code",
   "execution_count": 7,
   "metadata": {},
   "outputs": [
    {
     "name": "stdout",
     "output_type": "stream",
     "text": [
      "請輸入半徑:4.5\n",
      "圓面積為: 63.61725123519331\n"
     ]
    }
   ],
   "source": [
    "import math\n",
    "r= input(\"請輸入半徑:\")\n",
    "area = float(r) * float(r) *math.pi\n",
    "print(\"圓面積為:\" ,area)"
   ]
  },
  {
   "cell_type": "markdown",
   "metadata": {},
   "source": [
    "# 第三章"
   ]
  },
  {
   "cell_type": "markdown",
   "metadata": {},
   "source": [
    "# List串列"
   ]
  },
  {
   "cell_type": "code",
   "execution_count": 1,
   "metadata": {},
   "outputs": [
    {
     "name": "stdout",
     "output_type": "stream",
     "text": [
      "[1, 2, 3]\n",
      "python\n",
      "['python', 'js', 'SQL', 'java']\n"
     ]
    }
   ],
   "source": [
    "my_list0 = [1,2,3]\n",
    "print(my_list0)\n",
    "my_list1 = ['python' ,'js','SQL']\n",
    "print(my_list1[0])\n",
    "my_list1.append('java')\n",
    "print(my_list1)\n",
    "    "
   ]
  },
  {
   "cell_type": "markdown",
   "metadata": {},
   "source": [
    "# 新增到特殊位置"
   ]
  },
  {
   "cell_type": "code",
   "execution_count": 2,
   "metadata": {},
   "outputs": [
    {
     "name": "stdout",
     "output_type": "stream",
     "text": [
      "['c#', 'python', 'js', 'SQL', 'java']\n",
      "5\n"
     ]
    }
   ],
   "source": [
    "my_list1.insert(0,'c#')\n",
    "print(my_list1)\n",
    "print(len(my_list1))"
   ]
  },
  {
   "cell_type": "markdown",
   "metadata": {},
   "source": [
    "# list長度"
   ]
  },
  {
   "cell_type": "code",
   "execution_count": 3,
   "metadata": {},
   "outputs": [
    {
     "name": "stdout",
     "output_type": "stream",
     "text": [
      "5\n",
      "6\n"
     ]
    }
   ],
   "source": [
    "my_list2=['c#','python' ,'js','SQL','java']\n",
    "print(len(my_list2))\n",
    "print(len(my_list2[1]))"
   ]
  },
  {
   "cell_type": "markdown",
   "metadata": {},
   "source": [
    "# 刪除某特定物件、某特定位置的物件、-1指的是從最後數來第一個位置"
   ]
  },
  {
   "cell_type": "code",
   "execution_count": 4,
   "metadata": {},
   "outputs": [
    {
     "name": "stdout",
     "output_type": "stream",
     "text": [
      "['c#', 'python', 'SQL', 'java']\n",
      "['python', 'SQL', 'java']\n",
      "['python', 'SQL']\n"
     ]
    }
   ],
   "source": [
    "my_list3=['c#','python' ,'js','SQL','java']\n",
    "my_list3.remove('js')    #刪除某特定物件\n",
    "print(my_list3)\n",
    "del my_list3[0]          #刪除某特定位置的物件\n",
    "print(my_list3)\n",
    "del my_list3[-1]         #-1指的是從最後數來第一個位置\n",
    "print(my_list3)"
   ]
  },
  {
   "cell_type": "markdown",
   "metadata": {},
   "source": [
    "# 檢查是否存在"
   ]
  },
  {
   "cell_type": "code",
   "execution_count": 5,
   "metadata": {},
   "outputs": [
    {
     "name": "stdout",
     "output_type": "stream",
     "text": [
      "False\n"
     ]
    }
   ],
   "source": [
    "print('java' in['python' ,'js','SQL'])"
   ]
  },
  {
   "cell_type": "markdown",
   "metadata": {},
   "source": [
    "# 串列的重複"
   ]
  },
  {
   "cell_type": "code",
   "execution_count": 7,
   "metadata": {},
   "outputs": [
    {
     "name": "stdout",
     "output_type": "stream",
     "text": [
      "[1, 2, 1, 2, 1, 2, 1, 2, 1, 2]\n"
     ]
    }
   ],
   "source": [
    "a=[1,2]\n",
    "print(a*5)"
   ]
  },
  {
   "cell_type": "markdown",
   "metadata": {},
   "source": [
    "# #串列取值"
   ]
  },
  {
   "cell_type": "code",
   "execution_count": 12,
   "metadata": {},
   "outputs": [
    {
     "name": "stdout",
     "output_type": "stream",
     "text": [
      "[1, 2, 3]\n",
      "[1, 3, 5, 7, 9]\n",
      "[1, 2, 3, 4, 5, 6, 7]\n",
      "7\n",
      "1\n",
      "0\n",
      "1\n"
     ]
    }
   ],
   "source": [
    "a=[1,2,3,4,5,6,7,8,9]\n",
    "b=a[0:3]         #包含0，但是不包含3\n",
    "print(b)\n",
    "c=a[0:9:2]       #間隔取值 [開始:結束:間隔]\n",
    "print(c)\n",
    "del a[7:9]\n",
    "print(a)\n",
    "print(max(a))     #最大值\n",
    "print(min(a))     #最小值\n",
    "print(a.index(1))\n",
    "print(a.count(1))"
   ]
  },
  {
   "cell_type": "markdown",
   "metadata": {},
   "source": [
    "# 串列反轉跟串列排序"
   ]
  },
  {
   "cell_type": "code",
   "execution_count": 9,
   "metadata": {},
   "outputs": [
    {
     "name": "stdout",
     "output_type": "stream",
     "text": [
      "[1, 2, 3, 4, 5, 6, 7]\n",
      "[7, 6, 5, 4, 3, 2, 1]\n",
      "[1, 2, 3, 4, 5, 6, 7]\n"
     ]
    }
   ],
   "source": [
    "print(a)\n",
    "a.reverse()   \n",
    "print(a)\n",
    "a.sort()    \n",
    "print(a)"
   ]
  },
  {
   "cell_type": "markdown",
   "metadata": {},
   "source": [
    "# 取特定位置的值"
   ]
  },
  {
   "cell_type": "code",
   "execution_count": 11,
   "metadata": {},
   "outputs": [
    {
     "name": "stdout",
     "output_type": "stream",
     "text": [
      "123\n",
      "abc\n",
      "[111, 222]\n",
      "222\n"
     ]
    }
   ],
   "source": [
    "a=[123,'abc',[111,222],[333,444]]\n",
    "print(a[0])\n",
    "print(a[1])\n",
    "print(a[2])\n",
    "print(a[2][1])"
   ]
  },
  {
   "cell_type": "markdown",
   "metadata": {},
   "source": [
    "# 不同的字串相加"
   ]
  },
  {
   "cell_type": "code",
   "execution_count": 13,
   "metadata": {},
   "outputs": [
    {
     "name": "stdout",
     "output_type": "stream",
     "text": [
      "[111, 222, 333, 444, 4156, 1546]\n"
     ]
    }
   ],
   "source": [
    "a=[111,222] + [333,444] + [4156,1546]\n",
    "print(a)"
   ]
  },
  {
   "cell_type": "markdown",
   "metadata": {},
   "source": [
    "# 串列List常用在For迴圈"
   ]
  },
  {
   "cell_type": "code",
   "execution_count": 15,
   "metadata": {},
   "outputs": [
    {
     "name": "stdout",
     "output_type": "stream",
     "text": [
      "milk\n",
      "egg\n",
      "coffee\n",
      "banana\n"
     ]
    }
   ],
   "source": [
    "shoplist = ['milk','egg','coffee','banana']\n",
    "for item in shoplist:\n",
    "    print(item)"
   ]
  },
  {
   "cell_type": "markdown",
   "metadata": {},
   "source": [
    "# tupe的元素不可新增刪除或修改"
   ]
  },
  {
   "cell_type": "code",
   "execution_count": 1,
   "metadata": {},
   "outputs": [
    {
     "name": "stdout",
     "output_type": "stream",
     "text": [
      "<class 'list'>\n",
      "<class 'tuple'>\n",
      "('python', 'js', 'SQL')\n"
     ]
    }
   ],
   "source": [
    "a_list=['python' ,'js','SQL']\n",
    "a_tuple=('python' ,'js','SQL')\n",
    "b_tuple=tuple(a_list)\n",
    "print(type(a_list))\n",
    "print(type(a_tuple))\n",
    "print(b_tuple)"
   ]
  },
  {
   "cell_type": "markdown",
   "metadata": {},
   "source": [
    "# 判斷類型"
   ]
  },
  {
   "cell_type": "code",
   "execution_count": 2,
   "metadata": {},
   "outputs": [
    {
     "name": "stdout",
     "output_type": "stream",
     "text": [
      "(111, 333, 222)\n",
      "<class 'tuple'>\n"
     ]
    }
   ],
   "source": [
    "c_tuple= 111,333,222   #c_tuple=(111,2222,333)\n",
    "print(c_tuple)\n",
    "print(type(c_tuple))"
   ]
  },
  {
   "cell_type": "markdown",
   "metadata": {},
   "source": [
    "# dict(字典-dictiontry)\n",
    "\n",
    "# 帶有鍵值(key)的list"
   ]
  },
  {
   "cell_type": "code",
   "execution_count": 6,
   "metadata": {
    "scrolled": true
   },
   "outputs": [
    {
     "name": "stdout",
     "output_type": "stream",
     "text": [
      "python\n",
      "python\n",
      "python\n"
     ]
    }
   ],
   "source": [
    "a_list=['python', 'js', 'c#']\n",
    "a_dict={0:'python', 1:'js', 2:'c#'}\n",
    "print(a_list[0])\n",
    "print(a_dict[0])\n",
    "b_dict={'1st':'python', '2nd':'js','3rd':'c#'}\n",
    "print(b_dict['1st'])"
   ]
  },
  {
   "cell_type": "code",
   "execution_count": null,
   "metadata": {},
   "outputs": [],
   "source": []
  },
  {
   "cell_type": "markdown",
   "metadata": {},
   "source": [
    "# 第三章 流程控制"
   ]
  },
  {
   "cell_type": "markdown",
   "metadata": {},
   "source": [
    "# 溫度"
   ]
  },
  {
   "cell_type": "code",
   "execution_count": 4,
   "metadata": {},
   "outputs": [
    {
     "name": "stdout",
     "output_type": "stream",
     "text": [
      "請輸入攝氏溫度20\n",
      "<class 'float'>\n",
      "華氏溫度 68.0\n"
     ]
    }
   ],
   "source": [
    "celsius=float(input('請輸入攝氏溫度'))\n",
    "print(type(celsius))\n",
    "fahrenheit=(9/5) * celsius + 32\n",
    "print('華氏溫度',fahrenheit)"
   ]
  },
  {
   "cell_type": "markdown",
   "metadata": {},
   "source": [
    "# 基本應用"
   ]
  },
  {
   "cell_type": "code",
   "execution_count": 6,
   "metadata": {
    "scrolled": true
   },
   "outputs": [
    {
     "name": "stdout",
     "output_type": "stream",
     "text": [
      "樣本= [5, 8, 9, 6, 4, 1, 2, 3, 5, 6]\n",
      "平均數= 4.9\n",
      "最大數= 9\n",
      "最小數= 1\n",
      "變異數= 6.32\n",
      "標準差= 2.51\n"
     ]
    }
   ],
   "source": [
    "import statistics as st\n",
    "sample=[5,8,9,6,4,1,2,3,5,6]\n",
    "print('樣本=',sample)\n",
    "print('平均數=',st.mean(sample))\n",
    "print('最大數=',max(sample))\n",
    "print('最小數=',min(sample))\n",
    "print('變異數=',round(st.variance(sample),2))\n",
    "print('標準差=',round(st.stdev(sample),2))"
   ]
  },
  {
   "cell_type": "markdown",
   "metadata": {},
   "source": [
    "# if"
   ]
  },
  {
   "cell_type": "code",
   "execution_count": 17,
   "metadata": {},
   "outputs": [
    {
     "name": "stdout",
     "output_type": "stream",
     "text": [
      "numB是比較大的數\n"
     ]
    }
   ],
   "source": [
    "numA = 3\n",
    "numB = 4\n",
    "if numA < numB:\n",
    "    print('numB是比較大的數')"
   ]
  },
  {
   "cell_type": "markdown",
   "metadata": {},
   "source": [
    "# 比較大小ex1"
   ]
  },
  {
   "cell_type": "code",
   "execution_count": 20,
   "metadata": {},
   "outputs": [
    {
     "name": "stdout",
     "output_type": "stream",
     "text": [
      "請輸入numA:4\n",
      "請輸入numB:5\n",
      "numB是比較大的數\n"
     ]
    }
   ],
   "source": [
    "numA =int(input('請輸入numA:'))\n",
    "numB =int(input('請輸入numB:'))\n",
    "if numA <numB:\n",
    "    print('numB是比較大的數')\n",
    "else:\n",
    "    print('numA是比較大的數')"
   ]
  },
  {
   "cell_type": "markdown",
   "metadata": {},
   "source": [
    "# 比較大小ex2"
   ]
  },
  {
   "cell_type": "code",
   "execution_count": null,
   "metadata": {},
   "outputs": [],
   "source": [
    "numA =int(input('請輸入numA:'))\n",
    "numB =int(input('請輸入numB:'))\n",
    "if numA <numB:\n",
    "    print('numB是比較大的數')\n",
    "elif:\n",
    "    print('numA是比較大的數')\n",
    "else:\n",
    "    print('numA跟numB相同大小')"
   ]
  },
  {
   "cell_type": "markdown",
   "metadata": {},
   "source": [
    "# For迴圈"
   ]
  },
  {
   "cell_type": "code",
   "execution_count": 25,
   "metadata": {},
   "outputs": [
    {
     "name": "stdout",
     "output_type": "stream",
     "text": [
      "總和: 55\n"
     ]
    }
   ],
   "source": [
    "sum = 0\n",
    "for i in range(1, 11):\n",
    "    sum = sum + i\n",
    "print('總和:', sum)"
   ]
  },
  {
   "cell_type": "markdown",
   "metadata": {},
   "source": [
    "# 總和"
   ]
  },
  {
   "cell_type": "code",
   "execution_count": 26,
   "metadata": {},
   "outputs": [
    {
     "name": "stdout",
     "output_type": "stream",
     "text": [
      "總和: 47\n"
     ]
    }
   ],
   "source": [
    "sample=[2,1,4,8,3,2,6,5,9,7]\n",
    "sum=0\n",
    "for i in sample:\n",
    "    sum=sum+i\n",
    "print('總和:',sum)"
   ]
  },
  {
   "cell_type": "markdown",
   "metadata": {},
   "source": [
    "# In-class exercise 隨堂練習"
   ]
  },
  {
   "cell_type": "markdown",
   "metadata": {},
   "source": [
    "雞兔同籠問題進行求解。若共有35個頭，94隻腳，問共有幾隻雞?幾隻兔子?"
   ]
  },
  {
   "cell_type": "code",
   "execution_count": 27,
   "metadata": {},
   "outputs": [
    {
     "name": "stdout",
     "output_type": "stream",
     "text": [
      "雞有 23 隻\n",
      "兔有 12 隻\n"
     ]
    }
   ],
   "source": [
    "head=35\n",
    "leg =94\n",
    "for rabbit in range(0, head+1):\n",
    "    chicken=head-rabbit\n",
    "    if((rabbit*4 +chicken*2)==leg):\n",
    "        print('雞有',chicken,'隻')\n",
    "        print('兔有',rabbit,'隻')"
   ]
  },
  {
   "cell_type": "markdown",
   "metadata": {},
   "source": [
    "# 印字"
   ]
  },
  {
   "cell_type": "code",
   "execution_count": 28,
   "metadata": {},
   "outputs": [
    {
     "name": "stdout",
     "output_type": "stream",
     "text": [
      "I\n",
      " \n",
      "I\n",
      "o\n",
      "v\n",
      "e\n",
      " \n",
      "A\n",
      "v\n",
      "e\n",
      "n\n",
      "g\n",
      "e\n",
      "r\n",
      " \n",
      "I\n",
      "V\n"
     ]
    }
   ],
   "source": [
    "mylist='I Iove Avenger IV'\n",
    "for character in mylist:\n",
    "    print(character)"
   ]
  },
  {
   "cell_type": "markdown",
   "metadata": {},
   "source": [
    "# while迴圈\n",
    "\n",
    "1+2+3+...+10的總和"
   ]
  },
  {
   "cell_type": "code",
   "execution_count": 1,
   "metadata": {},
   "outputs": [
    {
     "name": "stdout",
     "output_type": "stream",
     "text": [
      "1+2+3+...+10= 55\n"
     ]
    }
   ],
   "source": [
    "sum = 0\n",
    "count = 1\n",
    "while count <= 10:\n",
    "    sum = sum +count # sum += count\n",
    "    count += 1 # count = count +1\n",
    "print('1+2+3+...+10=',sum)"
   ]
  },
  {
   "cell_type": "markdown",
   "metadata": {},
   "source": [
    "# 銀行利息範例"
   ]
  },
  {
   "cell_type": "code",
   "execution_count": 2,
   "metadata": {},
   "outputs": [
    {
     "name": "stdout",
     "output_type": "stream",
     "text": [
      "67 年後，存款金額會加倍\n"
     ]
    }
   ],
   "source": [
    "x = 10000\n",
    "year = 0\n",
    "while x < 20000:\n",
    "    year += 1\n",
    "    x = x * 1.0104\n",
    "print(str(year),'年後，存款金額會加倍')"
   ]
  },
  {
   "cell_type": "markdown",
   "metadata": {},
   "source": [
    "# 帳號密碼程式"
   ]
  },
  {
   "cell_type": "code",
   "execution_count": 3,
   "metadata": {},
   "outputs": [
    {
     "name": "stdout",
     "output_type": "stream",
     "text": [
      "請輸入帳號:aaa\n",
      "請輸入密碼:bbb\n",
      "帳號/密碼輸入不正確\n",
      "請輸入帳號:tony\n",
      "請輸入密碼:1234\n",
      "歡迎登入\n"
     ]
    }
   ],
   "source": [
    "id = 'tony'\n",
    "pwd = '1234'\n",
    "\n",
    "while True:\n",
    "    x = input('請輸入帳號:')\n",
    "    y = input('請輸入密碼:')\n",
    "    if(x==id and y==pwd):\n",
    "        print('歡迎登入')\n",
    "        break\n",
    "    else:\n",
    "        print('帳號/密碼輸入不正確')"
   ]
  },
  {
   "cell_type": "markdown",
   "metadata": {},
   "source": [
    " # C#\n",
    "    \n",
    " # Python"
   ]
  },
  {
   "cell_type": "code",
   "execution_count": 28,
   "metadata": {},
   "outputs": [
    {
     "name": "stdout",
     "output_type": "stream",
     "text": [
      "C#\n",
      "Python\n",
      "C++\n"
     ]
    }
   ],
   "source": [
    "mylist = ['C#','Python','Java','C++']\n",
    "for i in mylist:\n",
    "    if i == 'Java':\n",
    "        continue\n",
    "    else:\n",
    "            print(i)"
   ]
  },
  {
   "cell_type": "markdown",
   "metadata": {},
   "source": [
    "# 取10個亂數"
   ]
  },
  {
   "cell_type": "code",
   "execution_count": 11,
   "metadata": {},
   "outputs": [
    {
     "name": "stdout",
     "output_type": "stream",
     "text": [
      "0.7799735399068399\n",
      "0.34859979684179976\n",
      "0.03629412959826195\n",
      "0.8796314747978705\n",
      "0.05353082690472222\n",
      "0.12119514440202284\n",
      "0.23035850527293888\n",
      "0.7510378062468123\n",
      "0.17622776064993828\n",
      "0.5550742914777083\n"
     ]
    }
   ],
   "source": [
    "import random\n",
    "for i in range(0,10):\n",
    "    print(random.random())"
   ]
  },
  {
   "cell_type": "markdown",
   "metadata": {},
   "source": [
    "# 取10個 數字不超過2~8"
   ]
  },
  {
   "cell_type": "code",
   "execution_count": 22,
   "metadata": {},
   "outputs": [
    {
     "name": "stdout",
     "output_type": "stream",
     "text": [
      "8\n",
      "2\n",
      "2\n",
      "5\n",
      "7\n",
      "2\n",
      "5\n",
      "4\n",
      "3\n",
      "2\n"
     ]
    }
   ],
   "source": [
    "for i in range(0,10):\n",
    "    print(random.randint(1,9))"
   ]
  },
  {
   "cell_type": "markdown",
   "metadata": {},
   "source": [
    "# 小遊戲"
   ]
  },
  {
   "cell_type": "code",
   "execution_count": 27,
   "metadata": {},
   "outputs": [
    {
     "name": "stdout",
     "output_type": "stream",
     "text": [
      "請輸入1-99的數字(q離開):22\n",
      "答錯了\n",
      "請輸入1-99的數字(q離開):q\n",
      "離開遊戲\n"
     ]
    }
   ],
   "source": [
    "import random\n",
    "number=random.randint(1,99)\n",
    "while True:\n",
    "    guess=input('請輸入1-99的數字(q離開):')\n",
    "    if guess == 'q':\n",
    "        print('離開遊戲')\n",
    "        break\n",
    "    else:\n",
    "        if number==int(guess):\n",
    "                print('恭喜，答對了')\n",
    "                break\n",
    "        else:\n",
    "                print('答錯了')   "
   ]
  },
  {
   "cell_type": "markdown",
   "metadata": {},
   "source": [
    "# numpy"
   ]
  },
  {
   "cell_type": "code",
   "execution_count": 1,
   "metadata": {},
   "outputs": [
    {
     "name": "stdout",
     "output_type": "stream",
     "text": [
      "[1, 2, 3, 4, 5, 1, 2, 3, 4, 5, 1, 2, 3, 4, 5]\n"
     ]
    }
   ],
   "source": [
    "a_list=[1,2,3,4,5]\n",
    "print(a_list*3)"
   ]
  },
  {
   "cell_type": "markdown",
   "metadata": {},
   "source": [
    "# nump套件ndarray型態，提供element-wise的操作"
   ]
  },
  {
   "cell_type": "code",
   "execution_count": 3,
   "metadata": {},
   "outputs": [
    {
     "name": "stdout",
     "output_type": "stream",
     "text": [
      "[ 3  6  9 12 15]\n"
     ]
    }
   ],
   "source": [
    "import numpy as np\n",
    "a_ndarray=np.array([1,2,3,4,5])\n",
    "print(a_ndarray*3)"
   ]
  },
  {
   "cell_type": "markdown",
   "metadata": {},
   "source": [
    "# ndarrary維度 shape 資料型態"
   ]
  },
  {
   "cell_type": "code",
   "execution_count": 5,
   "metadata": {},
   "outputs": [
    {
     "name": "stdout",
     "output_type": "stream",
     "text": [
      "<class 'numpy.ndarray'>\n",
      "1\n",
      "(5,)\n",
      "int32\n"
     ]
    }
   ],
   "source": [
    "print(type(a_ndarray))\n",
    "print(a_ndarray.ndim)\n",
    "print(a_ndarray.shape)\n",
    "print(a_ndarray.dtype)"
   ]
  },
  {
   "cell_type": "markdown",
   "metadata": {},
   "source": [
    "# 六個元素都為0的ID ndarray\n",
    "# 12個元素都為0的2d ndarray\n",
    "# 24個元素都未出始化的值\n",
    "# 10個元素0-9的ID ndarray"
   ]
  },
  {
   "cell_type": "code",
   "execution_count": 6,
   "metadata": {},
   "outputs": [
    {
     "name": "stdout",
     "output_type": "stream",
     "text": [
      "[0. 0. 0. 0. 0. 0.]\n",
      "[[0. 0. 0. 0. 0. 0.]\n",
      " [0. 0. 0. 0. 0. 0.]]\n",
      "[[[3.56043053e-307 1.60219306e-306]\n",
      "  [7.56571288e-307 1.89146896e-307]\n",
      "  [1.37961302e-306 1.05699242e-307]\n",
      "  [8.01097889e-307 1.78020169e-306]\n",
      "  [7.56601165e-307 1.02359984e-306]\n",
      "  [1.33510679e-306 2.22522597e-306]]\n",
      "\n",
      " [[1.33511018e-306 6.23057689e-307]\n",
      "  [7.56602524e-307 8.45559303e-307]\n",
      "  [8.06612616e-308 6.89810244e-307]\n",
      "  [1.22387550e-307 2.22522596e-306]\n",
      "  [8.34423917e-308 1.11261162e-306]\n",
      "  [1.78021527e-306 8.34426039e-308]]]\n",
      "[0 1 2 3 4 5 6 7 8 9]\n"
     ]
    }
   ],
   "source": [
    "z=np.zeros(6)  \n",
    "print(z)                    \n",
    "print(np.zeros((2,6)))      \n",
    "print(np.empty((2,6,2)))    \n",
    "print(np.arange(10))        "
   ]
  },
  {
   "cell_type": "markdown",
   "metadata": {},
   "source": [
    "# ndarray的進階操作"
   ]
  },
  {
   "cell_type": "code",
   "execution_count": 7,
   "metadata": {},
   "outputs": [
    {
     "name": "stdout",
     "output_type": "stream",
     "text": [
      "[0 1 2 3 4 5 6 7 8 9]\n",
      "0\n",
      "[0 1 2 3 4]\n"
     ]
    }
   ],
   "source": [
    "my_array=np.arange(10)\n",
    "print(my_array)\n",
    "print(my_array[0])\n",
    "print(my_array[0:5])"
   ]
  },
  {
   "cell_type": "markdown",
   "metadata": {},
   "source": [
    "# 維ndarray取值"
   ]
  },
  {
   "cell_type": "code",
   "execution_count": 10,
   "metadata": {},
   "outputs": [
    {
     "name": "stdout",
     "output_type": "stream",
     "text": [
      "[[0 1 2 3 4]\n",
      " [5 6 7 8 9]]\n",
      "[5 6 7 8 9]\n",
      "[1 6]\n",
      "6\n"
     ]
    }
   ],
   "source": [
    "my_2d_array = np.array([np.arange(0,5), np.arange(5,10)])\n",
    "print(my_2d_array)\n",
    "print(my_2d_array[1,:])  #第二列資料\n",
    "print(my_2d_array[:,1])  #第二欄資料\n",
    "print(my_2d_array[1,1])  #第二列第二航資料"
   ]
  },
  {
   "cell_type": "markdown",
   "metadata": {},
   "source": [
    "# 假設有六個組別\"Modern Web\",\"DevOps\",\"Cloud\",\"Big Data\",\"Security\",\"自我挑戰組\"\n",
    "# 其參加人數分別為56, 8, 19 ,14 ,6 ,71人"
   ]
  },
  {
   "cell_type": "code",
   "execution_count": 12,
   "metadata": {},
   "outputs": [
    {
     "name": "stdout",
     "output_type": "stream",
     "text": [
      "['Modern Web' 'DevOps' 'Cloud' 'Big Data' 'Security' '自我挑戰組']\n",
      "[56  8 19 14  6 71]\n"
     ]
    }
   ],
   "source": [
    "groups=[\"Modern Web\",\"DevOps\",\"Cloud\",\"Big Data\",\"Security\",\"自我挑戰組\"]\n",
    "ironman=[56, 8, 19 ,14 ,6 ,71]\n",
    "groups_array=np.array(groups)\n",
    "ironman_array=np.array(ironman)\n",
    "print(groups_array)\n",
    "print(ironman_array)"
   ]
  },
  {
   "cell_type": "markdown",
   "metadata": {},
   "source": [
    "# 用人數去篩選組別"
   ]
  },
  {
   "cell_type": "code",
   "execution_count": 13,
   "metadata": {},
   "outputs": [
    {
     "name": "stdout",
     "output_type": "stream",
     "text": [
      "[ True False  True  True False  True]\n",
      "['Modern Web' 'Cloud' 'Big Data' '自我挑戰組']\n",
      "[ True  True  True  True  True False]\n",
      "[56  8 19 14  6]\n"
     ]
    }
   ],
   "source": [
    "print(ironman_array >=10)\n",
    "print(groups_array[(ironman_array) >=10])\n",
    "print(groups_array != \"自我挑戰組\")\n",
    "print(ironman_array[groups_array != \"自我挑戰組\"])"
   ]
  },
  {
   "cell_type": "markdown",
   "metadata": {},
   "source": [
    "# Ndarrary轉置"
   ]
  },
  {
   "cell_type": "code",
   "execution_count": 14,
   "metadata": {},
   "outputs": [
    {
     "name": "stdout",
     "output_type": "stream",
     "text": [
      "[0 1 2 3 4 5 6 7 8 9]\n",
      "[[0 1 2 3 4]\n",
      " [5 6 7 8 9]]\n",
      "[[0 5]\n",
      " [1 6]\n",
      " [2 7]\n",
      " [3 8]\n",
      " [4 9]]\n"
     ]
    }
   ],
   "source": [
    "my_1d_array=np.arange(10)\n",
    "print(my_1d_array)\n",
    "my_2d_array=my_1d_array.reshape((2,5))\n",
    "print(my_2d_array)\n",
    "print(my_2d_array.T)"
   ]
  },
  {
   "cell_type": "markdown",
   "metadata": {},
   "source": [
    "# 有多少數字跟幾行幾列"
   ]
  },
  {
   "cell_type": "code",
   "execution_count": 15,
   "metadata": {},
   "outputs": [
    {
     "name": "stdout",
     "output_type": "stream",
     "text": [
      "[[ 0  1  2  3  4  5]\n",
      " [ 6  7  8  9 10 11]\n",
      " [12 13 14 15 16 17]\n",
      " [18 19 20 21 22 23]]\n"
     ]
    }
   ],
   "source": [
    "print(np.arange(24).reshape(4,6))"
   ]
  },
  {
   "cell_type": "markdown",
   "metadata": {},
   "source": [
    "# ndarray nan(空值)"
   ]
  },
  {
   "cell_type": "code",
   "execution_count": 17,
   "metadata": {},
   "outputs": [
    {
     "name": "stdout",
     "output_type": "stream",
     "text": [
      "[56.  8. 19. 14.  6. nan]\n"
     ]
    }
   ],
   "source": [
    "nan_array=np.array([56,8,19,14,6, np.nan])\n",
    "print(nan_array)"
   ]
  },
  {
   "cell_type": "markdown",
   "metadata": {},
   "source": [
    "# 第六章\n",
    "\n",
    "# Pandas Data Frame"
   ]
  },
  {
   "cell_type": "code",
   "execution_count": 2,
   "metadata": {},
   "outputs": [
    {
     "data": {
      "text/html": [
       "<div>\n",
       "<style scoped>\n",
       "    .dataframe tbody tr th:only-of-type {\n",
       "        vertical-align: middle;\n",
       "    }\n",
       "\n",
       "    .dataframe tbody tr th {\n",
       "        vertical-align: top;\n",
       "    }\n",
       "\n",
       "    .dataframe thead th {\n",
       "        text-align: right;\n",
       "    }\n",
       "</style>\n",
       "<table border=\"1\" class=\"dataframe\">\n",
       "  <thead>\n",
       "    <tr style=\"text-align: right;\">\n",
       "      <th></th>\n",
       "      <th>groups</th>\n",
       "      <th>ironmen</th>\n",
       "    </tr>\n",
       "  </thead>\n",
       "  <tbody>\n",
       "    <tr>\n",
       "      <th>0</th>\n",
       "      <td>Modern Web</td>\n",
       "      <td>59</td>\n",
       "    </tr>\n",
       "    <tr>\n",
       "      <th>1</th>\n",
       "      <td>DevOps</td>\n",
       "      <td>9</td>\n",
       "    </tr>\n",
       "    <tr>\n",
       "      <th>2</th>\n",
       "      <td>Cloud</td>\n",
       "      <td>19</td>\n",
       "    </tr>\n",
       "    <tr>\n",
       "      <th>3</th>\n",
       "      <td>Big Data</td>\n",
       "      <td>14</td>\n",
       "    </tr>\n",
       "    <tr>\n",
       "      <th>4</th>\n",
       "      <td>Security</td>\n",
       "      <td>6</td>\n",
       "    </tr>\n",
       "    <tr>\n",
       "      <th>5</th>\n",
       "      <td>自我挑戰組</td>\n",
       "      <td>77</td>\n",
       "    </tr>\n",
       "  </tbody>\n",
       "</table>\n",
       "</div>"
      ],
      "text/plain": [
       "       groups  ironmen\n",
       "0  Modern Web       59\n",
       "1      DevOps        9\n",
       "2       Cloud       19\n",
       "3    Big Data       14\n",
       "4    Security        6\n",
       "5       自我挑戰組       77"
      ]
     },
     "execution_count": 2,
     "metadata": {},
     "output_type": "execute_result"
    }
   ],
   "source": [
    "import pandas as pd\n",
    "\n",
    "groups  = [\"Modern Web\",\"DevOps\",\"Cloud\",\"Big Data\",\"Security\",\"自我挑戰組\"]\n",
    "ironmen = [59, 9, 19, 14, 6, 77]\n",
    "ironmen_dict = {\n",
    "                \"groups\": groups,\n",
    "                \"ironmen\": ironmen\n",
    "}\n",
    "ironmen_df = pd.DataFrame(ironmen_dict)\n",
    "ironmen_df"
   ]
  },
  {
   "cell_type": "markdown",
   "metadata": {},
   "source": [
    "# ironmen各式語法"
   ]
  },
  {
   "cell_type": "code",
   "execution_count": 3,
   "metadata": {},
   "outputs": [
    {
     "name": "stdout",
     "output_type": "stream",
     "text": [
      "2\n",
      "(6, 2)\n",
      "groups     object\n",
      "ironmen     int64\n",
      "dtype: object\n"
     ]
    }
   ],
   "source": [
    "print(ironmen_df.ndim)\n",
    "print(ironmen_df.shape)\n",
    "print(ironmen_df.dtypes)"
   ]
  },
  {
   "cell_type": "markdown",
   "metadata": {},
   "source": [
    "# 各種運算"
   ]
  },
  {
   "cell_type": "code",
   "execution_count": 4,
   "metadata": {},
   "outputs": [
    {
     "name": "stdout",
     "output_type": "stream",
     "text": [
      "groups     Modern WebDevOpsCloudBig DataSecurity自我挑戰組\n",
      "ironmen                                           184\n",
      "dtype: object\n",
      "184\n",
      "ironmen    30.666667\n",
      "dtype: float64\n",
      "ironmen    16.5\n",
      "dtype: float64\n",
      "         ironmen\n",
      "count   6.000000\n",
      "mean   30.666667\n",
      "std    29.803803\n",
      "min     6.000000\n",
      "25%    10.250000\n",
      "50%    16.500000\n",
      "75%    49.000000\n",
      "max    77.000000\n"
     ]
    }
   ],
   "source": [
    "print(ironmen_df.sum())\n",
    "print(ironmen_df.ironmen.sum())\n",
    "print(ironmen_df.mean())\n",
    "print(ironmen_df.median())\n",
    "print(ironmen_df.describe())"
   ]
  },
  {
   "cell_type": "markdown",
   "metadata": {},
   "source": [
    "# 判斷那些組的組名是否為遺失值"
   ]
  },
  {
   "cell_type": "code",
   "execution_count": 6,
   "metadata": {},
   "outputs": [
    {
     "name": "stdout",
     "output_type": "stream",
     "text": [
      "0    False\n",
      "1    False\n",
      "2     True\n",
      "3    False\n",
      "4    False\n",
      "5    False\n",
      "6    False\n",
      "Name: groups, dtype: bool\n",
      "0     True\n",
      "1     True\n",
      "2     True\n",
      "3     True\n",
      "4     True\n",
      "5     True\n",
      "6    False\n",
      "Name: ironmen, dtype: bool\n"
     ]
    }
   ],
   "source": [
    "import pandas as pd\n",
    "import numpy as np\n",
    "groups  = [\"Modern Web\",\"DevOps\", np.nan, \"Cloud\",\"Big Data\",\"Security\",\"自我挑戰組\"]\n",
    "ironmen = [59, 9, 19, 14, 6, 77, np.nan]\n",
    "ironmen_dict = {\n",
    "                \"groups\": groups,\n",
    "                \"ironmen\": ironmen\n",
    "}\n",
    "ironmen_df = pd.DataFrame(ironmen_dict)\n",
    "print(ironmen_df.loc[:, \"groups\"].isnull())     #判斷那些組的組名是遺失值\n",
    "print(ironmen_df.loc[:, \"ironmen\"].notnull())   #判斷那些組的組名不是遺失值"
   ]
  },
  {
   "cell_type": "markdown",
   "metadata": {},
   "source": [
    "# 刪除空值"
   ]
  },
  {
   "cell_type": "code",
   "execution_count": 11,
   "metadata": {},
   "outputs": [
    {
     "data": {
      "text/html": [
       "<div>\n",
       "<style scoped>\n",
       "    .dataframe tbody tr th:only-of-type {\n",
       "        vertical-align: middle;\n",
       "    }\n",
       "\n",
       "    .dataframe tbody tr th {\n",
       "        vertical-align: top;\n",
       "    }\n",
       "\n",
       "    .dataframe thead th {\n",
       "        text-align: right;\n",
       "    }\n",
       "</style>\n",
       "<table border=\"1\" class=\"dataframe\">\n",
       "  <thead>\n",
       "    <tr style=\"text-align: right;\">\n",
       "      <th></th>\n",
       "      <th>groups</th>\n",
       "      <th>ironmen</th>\n",
       "    </tr>\n",
       "  </thead>\n",
       "  <tbody>\n",
       "    <tr>\n",
       "      <th>0</th>\n",
       "      <td>Modern Web</td>\n",
       "      <td>59.0</td>\n",
       "    </tr>\n",
       "    <tr>\n",
       "      <th>1</th>\n",
       "      <td>DevOps</td>\n",
       "      <td>9.0</td>\n",
       "    </tr>\n",
       "    <tr>\n",
       "      <th>3</th>\n",
       "      <td>Cloud</td>\n",
       "      <td>14.0</td>\n",
       "    </tr>\n",
       "    <tr>\n",
       "      <th>4</th>\n",
       "      <td>Big Data</td>\n",
       "      <td>6.0</td>\n",
       "    </tr>\n",
       "    <tr>\n",
       "      <th>5</th>\n",
       "      <td>Security</td>\n",
       "      <td>77.0</td>\n",
       "    </tr>\n",
       "  </tbody>\n",
       "</table>\n",
       "</div>"
      ],
      "text/plain": [
       "       groups  ironmen\n",
       "0  Modern Web     59.0\n",
       "1      DevOps      9.0\n",
       "3       Cloud     14.0\n",
       "4    Big Data      6.0\n",
       "5    Security     77.0"
      ]
     },
     "execution_count": 11,
     "metadata": {},
     "output_type": "execute_result"
    }
   ],
   "source": [
    "a=ironmen_df.dropna()    \n",
    "a"
   ]
  },
  {
   "cell_type": "markdown",
   "metadata": {},
   "source": [
    "# 空值補0"
   ]
  },
  {
   "cell_type": "code",
   "execution_count": 12,
   "metadata": {},
   "outputs": [
    {
     "data": {
      "text/html": [
       "<div>\n",
       "<style scoped>\n",
       "    .dataframe tbody tr th:only-of-type {\n",
       "        vertical-align: middle;\n",
       "    }\n",
       "\n",
       "    .dataframe tbody tr th {\n",
       "        vertical-align: top;\n",
       "    }\n",
       "\n",
       "    .dataframe thead th {\n",
       "        text-align: right;\n",
       "    }\n",
       "</style>\n",
       "<table border=\"1\" class=\"dataframe\">\n",
       "  <thead>\n",
       "    <tr style=\"text-align: right;\">\n",
       "      <th></th>\n",
       "      <th>groups</th>\n",
       "      <th>ironmen</th>\n",
       "    </tr>\n",
       "  </thead>\n",
       "  <tbody>\n",
       "    <tr>\n",
       "      <th>0</th>\n",
       "      <td>Modern Web</td>\n",
       "      <td>59.0</td>\n",
       "    </tr>\n",
       "    <tr>\n",
       "      <th>1</th>\n",
       "      <td>DevOps</td>\n",
       "      <td>9.0</td>\n",
       "    </tr>\n",
       "    <tr>\n",
       "      <th>2</th>\n",
       "      <td>0</td>\n",
       "      <td>19.0</td>\n",
       "    </tr>\n",
       "    <tr>\n",
       "      <th>3</th>\n",
       "      <td>Cloud</td>\n",
       "      <td>14.0</td>\n",
       "    </tr>\n",
       "    <tr>\n",
       "      <th>4</th>\n",
       "      <td>Big Data</td>\n",
       "      <td>6.0</td>\n",
       "    </tr>\n",
       "    <tr>\n",
       "      <th>5</th>\n",
       "      <td>Security</td>\n",
       "      <td>77.0</td>\n",
       "    </tr>\n",
       "    <tr>\n",
       "      <th>6</th>\n",
       "      <td>自我挑戰組</td>\n",
       "      <td>0.0</td>\n",
       "    </tr>\n",
       "  </tbody>\n",
       "</table>\n",
       "</div>"
      ],
      "text/plain": [
       "       groups  ironmen\n",
       "0  Modern Web     59.0\n",
       "1      DevOps      9.0\n",
       "2           0     19.0\n",
       "3       Cloud     14.0\n",
       "4    Big Data      6.0\n",
       "5    Security     77.0\n",
       "6       自我挑戰組      0.0"
      ]
     },
     "execution_count": 12,
     "metadata": {},
     "output_type": "execute_result"
    }
   ],
   "source": [
    "b=ironmen_df.fillna(0)   \n",
    "b"
   ]
  },
  {
   "cell_type": "markdown",
   "metadata": {},
   "source": [
    "# 空值補平均數"
   ]
  },
  {
   "cell_type": "code",
   "execution_count": 13,
   "metadata": {},
   "outputs": [
    {
     "data": {
      "text/plain": [
       "0    59.000000\n",
       "1     9.000000\n",
       "2    19.000000\n",
       "3    14.000000\n",
       "4     6.000000\n",
       "5    77.000000\n",
       "6    30.666667\n",
       "Name: ironmen, dtype: float64"
      ]
     },
     "execution_count": 13,
     "metadata": {},
     "output_type": "execute_result"
    }
   ],
   "source": [
    "c=ironmen_df.ironmen.fillna(ironmen_df.ironmen.mean())  \n",
    "c"
   ]
  },
  {
   "cell_type": "markdown",
   "metadata": {},
   "source": [
    "# 建立 data frame"
   ]
  },
  {
   "cell_type": "code",
   "execution_count": 14,
   "metadata": {},
   "outputs": [
    {
     "data": {
      "text/html": [
       "<div>\n",
       "<style scoped>\n",
       "    .dataframe tbody tr th:only-of-type {\n",
       "        vertical-align: middle;\n",
       "    }\n",
       "\n",
       "    .dataframe tbody tr th {\n",
       "        vertical-align: top;\n",
       "    }\n",
       "\n",
       "    .dataframe thead th {\n",
       "        text-align: right;\n",
       "    }\n",
       "</style>\n",
       "<table border=\"1\" class=\"dataframe\">\n",
       "  <thead>\n",
       "    <tr style=\"text-align: right;\">\n",
       "      <th></th>\n",
       "      <th>ironmen</th>\n",
       "    </tr>\n",
       "  </thead>\n",
       "  <tbody>\n",
       "    <tr>\n",
       "      <th>Big Data</th>\n",
       "      <td>14</td>\n",
       "    </tr>\n",
       "    <tr>\n",
       "      <th>Cloud</th>\n",
       "      <td>19</td>\n",
       "    </tr>\n",
       "    <tr>\n",
       "      <th>DevOps</th>\n",
       "      <td>9</td>\n",
       "    </tr>\n",
       "    <tr>\n",
       "      <th>Modern Web</th>\n",
       "      <td>59</td>\n",
       "    </tr>\n",
       "    <tr>\n",
       "      <th>Security</th>\n",
       "      <td>6</td>\n",
       "    </tr>\n",
       "    <tr>\n",
       "      <th>自我挑戰組</th>\n",
       "      <td>77</td>\n",
       "    </tr>\n",
       "  </tbody>\n",
       "</table>\n",
       "</div>"
      ],
      "text/plain": [
       "            ironmen\n",
       "Big Data         14\n",
       "Cloud            19\n",
       "DevOps            9\n",
       "Modern Web       59\n",
       "Security          6\n",
       "自我挑戰組            77"
      ]
     },
     "execution_count": 14,
     "metadata": {},
     "output_type": "execute_result"
    }
   ],
   "source": [
    "import pandas as pd\n",
    "\n",
    "groups  = [\"Modern Web\",\"DevOps\",\"Cloud\",\"Big Data\",\"Security\",\"自我挑戰組\"]\n",
    "ironmen = [59, 9, 19, 14, 6, 77]\n",
    "\n",
    "ironmen_df = pd.DataFrame(ironmen, columns = [\"ironmen\"], index = groups)\n",
    "ironmen_df.sort_index()"
   ]
  },
  {
   "cell_type": "markdown",
   "metadata": {},
   "source": [
    "# 第七章"
   ]
  },
  {
   "cell_type": "markdown",
   "metadata": {},
   "source": [
    "# 雲端載入"
   ]
  },
  {
   "cell_type": "code",
   "execution_count": 3,
   "metadata": {},
   "outputs": [
    {
     "data": {
      "text/html": [
       "<div>\n",
       "<style scoped>\n",
       "    .dataframe tbody tr th:only-of-type {\n",
       "        vertical-align: middle;\n",
       "    }\n",
       "\n",
       "    .dataframe tbody tr th {\n",
       "        vertical-align: top;\n",
       "    }\n",
       "\n",
       "    .dataframe thead th {\n",
       "        text-align: right;\n",
       "    }\n",
       "</style>\n",
       "<table border=\"1\" class=\"dataframe\">\n",
       "  <thead>\n",
       "    <tr style=\"text-align: right;\">\n",
       "      <th></th>\n",
       "      <th>Sepal.Length</th>\n",
       "      <th>Sepal.Width</th>\n",
       "      <th>Petal.Length</th>\n",
       "      <th>Petal.Width</th>\n",
       "      <th>Species</th>\n",
       "    </tr>\n",
       "  </thead>\n",
       "  <tbody>\n",
       "    <tr>\n",
       "      <th>0</th>\n",
       "      <td>5.1</td>\n",
       "      <td>3.5</td>\n",
       "      <td>1.4</td>\n",
       "      <td>0.2</td>\n",
       "      <td>setosa</td>\n",
       "    </tr>\n",
       "    <tr>\n",
       "      <th>1</th>\n",
       "      <td>4.9</td>\n",
       "      <td>3.0</td>\n",
       "      <td>1.4</td>\n",
       "      <td>0.2</td>\n",
       "      <td>setosa</td>\n",
       "    </tr>\n",
       "    <tr>\n",
       "      <th>2</th>\n",
       "      <td>4.7</td>\n",
       "      <td>3.2</td>\n",
       "      <td>1.3</td>\n",
       "      <td>0.2</td>\n",
       "      <td>setosa</td>\n",
       "    </tr>\n",
       "    <tr>\n",
       "      <th>3</th>\n",
       "      <td>4.6</td>\n",
       "      <td>3.1</td>\n",
       "      <td>1.5</td>\n",
       "      <td>0.2</td>\n",
       "      <td>setosa</td>\n",
       "    </tr>\n",
       "    <tr>\n",
       "      <th>4</th>\n",
       "      <td>5.0</td>\n",
       "      <td>3.6</td>\n",
       "      <td>1.4</td>\n",
       "      <td>0.2</td>\n",
       "      <td>setosa</td>\n",
       "    </tr>\n",
       "  </tbody>\n",
       "</table>\n",
       "</div>"
      ],
      "text/plain": [
       "   Sepal.Length  Sepal.Width  Petal.Length  Petal.Width Species\n",
       "0           5.1          3.5           1.4          0.2  setosa\n",
       "1           4.9          3.0           1.4          0.2  setosa\n",
       "2           4.7          3.2           1.3          0.2  setosa\n",
       "3           4.6          3.1           1.5          0.2  setosa\n",
       "4           5.0          3.6           1.4          0.2  setosa"
      ]
     },
     "execution_count": 3,
     "metadata": {},
     "output_type": "execute_result"
    }
   ],
   "source": [
    "import pandas as pd\n",
    "ur1=\"https://storage.googleapis.com/2017_ithome_ironman/data/iris.csv\"\n",
    "iris_df = pd.read_csv(ur1)\n",
    "iris_df.head()"
   ]
  },
  {
   "cell_type": "code",
   "execution_count": 4,
   "metadata": {},
   "outputs": [
    {
     "data": {
      "text/plain": [
       "5.8"
      ]
     },
     "execution_count": 4,
     "metadata": {},
     "output_type": "execute_result"
    }
   ],
   "source": [
    "iris_df['Sepal.Length'].median()"
   ]
  },
  {
   "cell_type": "markdown",
   "metadata": {},
   "source": [
    "# 本地端載"
   ]
  },
  {
   "cell_type": "code",
   "execution_count": 26,
   "metadata": {},
   "outputs": [
    {
     "data": {
      "text/html": [
       "<div>\n",
       "<style scoped>\n",
       "    .dataframe tbody tr th:only-of-type {\n",
       "        vertical-align: middle;\n",
       "    }\n",
       "\n",
       "    .dataframe tbody tr th {\n",
       "        vertical-align: top;\n",
       "    }\n",
       "\n",
       "    .dataframe thead th {\n",
       "        text-align: right;\n",
       "    }\n",
       "</style>\n",
       "<table border=\"1\" class=\"dataframe\">\n",
       "  <thead>\n",
       "    <tr style=\"text-align: right;\">\n",
       "      <th></th>\n",
       "      <th>Sepal.Length</th>\n",
       "      <th>Sepal.Width</th>\n",
       "      <th>Petal.Length</th>\n",
       "      <th>Petal.Width</th>\n",
       "      <th>Species</th>\n",
       "    </tr>\n",
       "  </thead>\n",
       "  <tbody>\n",
       "    <tr>\n",
       "      <th>0</th>\n",
       "      <td>5.1</td>\n",
       "      <td>3.5</td>\n",
       "      <td>1.4</td>\n",
       "      <td>0.2</td>\n",
       "      <td>setosa</td>\n",
       "    </tr>\n",
       "    <tr>\n",
       "      <th>1</th>\n",
       "      <td>4.9</td>\n",
       "      <td>3.0</td>\n",
       "      <td>1.4</td>\n",
       "      <td>0.2</td>\n",
       "      <td>setosa</td>\n",
       "    </tr>\n",
       "    <tr>\n",
       "      <th>2</th>\n",
       "      <td>4.7</td>\n",
       "      <td>3.2</td>\n",
       "      <td>1.3</td>\n",
       "      <td>0.2</td>\n",
       "      <td>setosa</td>\n",
       "    </tr>\n",
       "    <tr>\n",
       "      <th>3</th>\n",
       "      <td>4.6</td>\n",
       "      <td>3.1</td>\n",
       "      <td>1.5</td>\n",
       "      <td>0.2</td>\n",
       "      <td>setosa</td>\n",
       "    </tr>\n",
       "    <tr>\n",
       "      <th>4</th>\n",
       "      <td>5.0</td>\n",
       "      <td>3.6</td>\n",
       "      <td>1.4</td>\n",
       "      <td>0.2</td>\n",
       "      <td>setosa</td>\n",
       "    </tr>\n",
       "  </tbody>\n",
       "</table>\n",
       "</div>"
      ],
      "text/plain": [
       "   Sepal.Length  Sepal.Width  Petal.Length  Petal.Width Species\n",
       "0           5.1          3.5           1.4          0.2  setosa\n",
       "1           4.9          3.0           1.4          0.2  setosa\n",
       "2           4.7          3.2           1.3          0.2  setosa\n",
       "3           4.6          3.1           1.5          0.2  setosa\n",
       "4           5.0          3.6           1.4          0.2  setosa"
      ]
     },
     "execution_count": 26,
     "metadata": {},
     "output_type": "execute_result"
    }
   ],
   "source": [
    "import pandas as pd\n",
    "iris_df = pd.read_csv('iris.csv')\n",
    "iris_df.head()"
   ]
  },
  {
   "cell_type": "markdown",
   "metadata": {},
   "source": [
    "# 第八章"
   ]
  },
  {
   "cell_type": "markdown",
   "metadata": {},
   "source": [
    "# 自訂函數"
   ]
  },
  {
   "cell_type": "code",
   "execution_count": 6,
   "metadata": {},
   "outputs": [
    {
     "name": "stdout",
     "output_type": "stream",
     "text": [
      "314.1592653589793\n"
     ]
    }
   ],
   "source": [
    "import math \n",
    "\n",
    "def circle(radius):\n",
    "    area = radius * radius * math.pi\n",
    "    return area\n",
    "\n",
    "print(circle(10))"
   ]
  },
  {
   "cell_type": "markdown",
   "metadata": {},
   "source": [
    "# 算圓面積"
   ]
  },
  {
   "cell_type": "code",
   "execution_count": 25,
   "metadata": {},
   "outputs": [
    {
     "name": "stdout",
     "output_type": "stream",
     "text": [
      "請輸入圓的半徑:12.5\n",
      "圓面積為: 490.8738521234052\n"
     ]
    }
   ],
   "source": [
    "import math\n",
    "\n",
    "def circle(radius):\n",
    "    area = radius * radius * math.pi\n",
    "    return area\n",
    "r=input(\"請輸入圓的半徑:\")\n",
    "print(\"圓面積為:\",circle(float(r)))"
   ]
  },
  {
   "cell_type": "markdown",
   "metadata": {},
   "source": [
    "# example: exchange sort"
   ]
  },
  {
   "cell_type": "code",
   "execution_count": 13,
   "metadata": {},
   "outputs": [
    {
     "name": "stdout",
     "output_type": "stream",
     "text": [
      "[78, 60, 62, 33, 9, 4, 71, 45, 24, 3]\n",
      "[60, 78, 62, 33, 9, 4, 71, 45, 24, 3]\n"
     ]
    }
   ],
   "source": [
    "import random\n",
    "\n",
    "def exchange_sort(input_list):\n",
    "    a=input_list\n",
    "    for i in range(0, len(input_list)-1):\n",
    "        for j in range(i+1, len(input_list)):\n",
    "            if a[i]>a[j]:\n",
    "                a[i], a[j]=a[j], a[i]\n",
    "                return a\n",
    "            \n",
    "my_vector =random.sample (range(0,100), 10)\n",
    "print(my_vector)\n",
    "print(exchange_sort(my_vector))"
   ]
  },
  {
   "cell_type": "markdown",
   "metadata": {},
   "source": [
    "# 排序"
   ]
  },
  {
   "cell_type": "code",
   "execution_count": 1,
   "metadata": {},
   "outputs": [
    {
     "name": "stdout",
     "output_type": "stream",
     "text": [
      "[34, 58, 24, 84, 4, 1, 16, 77, 56, 26]\n",
      "[1, 4, 16, 24, 26, 34, 56, 58, 77, 84]\n",
      "[84, 77, 58, 56, 34, 26, 24, 16, 4, 1]\n"
     ]
    }
   ],
   "source": [
    "import random\n",
    "\n",
    "def exchange_sort(input_list):\n",
    "    a=input_list\n",
    "    for i in range(0, len(input_list)-1):\n",
    "        for j in range(i+1, len(input_list)):\n",
    "            if a[i] > a[j]:\n",
    "                a[i],  a[j]=a[j], a[i] \n",
    "    return a\n",
    "\n",
    "\n",
    "def exchange_sort_r(input_list):\n",
    "    a=input_list\n",
    "    for i in range(0, len(input_list)-1):\n",
    "        for j in range(i+1, len(input_list)):\n",
    "            if a[i] < a[j]:\n",
    "                a[i],  a[j]=a[j], a[i] \n",
    "    return a\n",
    "\n",
    "my_vector = random.sample (range(0,100), 10)\n",
    "print(my_vector)\n",
    "print(exchange_sort(my_vector))\n",
    "print(exchange_sort_r(my_vector))"
   ]
  },
  {
   "cell_type": "markdown",
   "metadata": {},
   "source": [
    "# python的lambda函數"
   ]
  },
  {
   "cell_type": "code",
   "execution_count": 2,
   "metadata": {},
   "outputs": [
    {
     "name": "stdout",
     "output_type": "stream",
     "text": [
      "314.0\n"
     ]
    }
   ],
   "source": [
    "def circle(radius):\n",
    "    return radius * radius * 3.14\n",
    "\n",
    "print(circle(10))"
   ]
  },
  {
   "cell_type": "markdown",
   "metadata": {},
   "source": [
    "# max"
   ]
  },
  {
   "cell_type": "code",
   "execution_count": 3,
   "metadata": {},
   "outputs": [
    {
     "name": "stdout",
     "output_type": "stream",
     "text": [
      "10\n"
     ]
    }
   ],
   "source": [
    "def max(m,n):\n",
    "    return m if m > n else n\n",
    "print(max(10,3))"
   ]
  },
  {
   "cell_type": "markdown",
   "metadata": {},
   "source": [
    "# lambda"
   ]
  },
  {
   "cell_type": "code",
   "execution_count": 4,
   "metadata": {},
   "outputs": [
    {
     "name": "stdout",
     "output_type": "stream",
     "text": [
      "10\n"
     ]
    }
   ],
   "source": [
    "#lambda\n",
    "max = lambda m,n: m if m>n else n\n",
    "print(max(10,3))"
   ]
  },
  {
   "cell_type": "markdown",
   "metadata": {},
   "source": [
    "# lamda寫法"
   ]
  },
  {
   "cell_type": "code",
   "execution_count": 5,
   "metadata": {},
   "outputs": [
    {
     "name": "stdout",
     "output_type": "stream",
     "text": [
      "[1, 2, 3, 4, 5, 1, 2, 3, 4, 5, 1, 2, 3, 4, 5, 1, 2, 3, 4, 5, 1, 2, 3, 4, 5]\n",
      "[ 5 10 15 20 25]\n",
      "[5, 10, 15, 20, 25]\n"
     ]
    }
   ],
   "source": [
    "# list *5\n",
    "a=[1,2,3,4,5]\n",
    "print(a*5)\n",
    "#numbpy *5\n",
    "import numpy as np\n",
    "b=np.array(a)\n",
    "print(b*5)\n",
    "#lamda寫法\n",
    "c=list(map(lambda x: x*5, a)) #map(function, data)\n",
    "print(c)"
   ]
  },
  {
   "cell_type": "markdown",
   "metadata": {},
   "source": [
    "# 錯誤處理 try:except:"
   ]
  },
  {
   "cell_type": "code",
   "execution_count": 6,
   "metadata": {},
   "outputs": [
    {
     "name": "stdout",
     "output_type": "stream",
     "text": [
      "314.0\n",
      "請輸入數值\n"
     ]
    }
   ],
   "source": [
    "def circle(radius):\n",
    "    try:\n",
    "        return radius * radius * 3.14\n",
    "    except:\n",
    "        return\"請輸入數值\"\n",
    "    \n",
    "print(circle(10))\n",
    "print(circle('十'))"
   ]
  },
  {
   "cell_type": "code",
   "execution_count": null,
   "metadata": {},
   "outputs": [],
   "source": []
  }
 ],
 "metadata": {
  "kernelspec": {
   "display_name": "Python 3",
   "language": "python",
   "name": "python3"
  },
  "language_info": {
   "codemirror_mode": {
    "name": "ipython",
    "version": 3
   },
   "file_extension": ".py",
   "mimetype": "text/x-python",
   "name": "python",
   "nbconvert_exporter": "python",
   "pygments_lexer": "ipython3",
   "version": "3.7.1"
  }
 },
 "nbformat": 4,
 "nbformat_minor": 2
}
